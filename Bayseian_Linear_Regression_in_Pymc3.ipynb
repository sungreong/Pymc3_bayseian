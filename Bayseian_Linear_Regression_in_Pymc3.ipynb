{
  "nbformat": 4,
  "nbformat_minor": 0,
  "metadata": {
    "colab": {
      "name": "Bayseian Linear Regression in Pymc3.ipynb",
      "version": "0.3.2",
      "provenance": [],
      "collapsed_sections": []
    },
    "kernelspec": {
      "name": "python3",
      "display_name": "Python 3"
    },
    "accelerator": "GPU"
  },
  "cells": [
    {
      "cell_type": "markdown",
      "metadata": {
        "id": "view-in-github",
        "colab_type": "text"
      },
      "source": [
        "[View in Colaboratory](https://colab.research.google.com/github/sungreong/Pymc3_bayseian-network/blob/master/Bayseian_Linear_Regression_in_Pymc3.ipynb)"
      ]
    },
    {
      "metadata": {
        "id": "b7C_rewDqCjf",
        "colab_type": "code",
        "colab": {
          "base_uri": "https://localhost:8080/",
          "height": 443
        },
        "outputId": "6627ea97-2505-456b-81ae-628f980d1450"
      },
      "cell_type": "code",
      "source": [
        "!pip install git+https://github.com/pymc-devs/pymc3\n",
        "!pip install patsy pandas    "
      ],
      "execution_count": 1,
      "outputs": [
        {
          "output_type": "stream",
          "text": [
            "Collecting git+https://github.com/pymc-devs/pymc3\r\n",
            "  Cloning https://github.com/pymc-devs/pymc3 to /tmp/pip-req-build-an0bziqi\n",
            "Requirement already satisfied (use --upgrade to upgrade): pymc3==3.4.1 from git+https://github.com/pymc-devs/pymc3 in /usr/local/lib/python3.6/dist-packages\n",
            "Requirement already satisfied: theano>=1.0.0 in /usr/local/lib/python3.6/dist-packages (from pymc3==3.4.1) (1.0.1)\n",
            "Requirement already satisfied: numpy>=1.13.0 in /usr/local/lib/python3.6/dist-packages (from pymc3==3.4.1) (1.14.3)\n",
            "Requirement already satisfied: pandas>=0.18.0 in /usr/local/lib/python3.6/dist-packages (from pymc3==3.4.1) (0.22.0)\n",
            "Requirement already satisfied: patsy>=0.4.0 in /usr/local/lib/python3.6/dist-packages (from pymc3==3.4.1) (0.5.0)\n",
            "Requirement already satisfied: joblib>=0.9 in /usr/local/lib/python3.6/dist-packages (from pymc3==3.4.1) (0.11)\n",
            "Requirement already satisfied: tqdm>=4.8.4 in /usr/local/lib/python3.6/dist-packages (from pymc3==3.4.1) (4.23.2)\n",
            "Requirement already satisfied: six>=1.10.0 in /usr/local/lib/python3.6/dist-packages (from pymc3==3.4.1) (1.11.0)\n",
            "Requirement already satisfied: h5py>=2.7.0 in /usr/local/lib/python3.6/dist-packages (from pymc3==3.4.1) (2.7.1)\n",
            "Requirement already satisfied: scipy>=0.14 in /usr/local/lib/python3.6/dist-packages (from theano>=1.0.0->pymc3==3.4.1) (0.19.1)\n",
            "Requirement already satisfied: pytz>=2011k in /usr/local/lib/python3.6/dist-packages (from pandas>=0.18.0->pymc3==3.4.1) (2018.4)\n",
            "Requirement already satisfied: python-dateutil>=2 in /usr/local/lib/python3.6/dist-packages (from pandas>=0.18.0->pymc3==3.4.1) (2.5.3)\n",
            "Building wheels for collected packages: pymc3\n",
            "  Running setup.py bdist_wheel for pymc3 ... \u001b[?25l-\b \b\\\b \b|\b \b/\b \b-\b \bdone\n",
            "\u001b[?25h  Stored in directory: /tmp/pip-ephem-wheel-cache-mqwe6g_a/wheels/a1/e3/71/a696f2af0dd40bccc0ce672d616d21cc9dd90dbdd3f03242f4\n",
            "Successfully built pymc3\n",
            "Requirement already satisfied: patsy in /usr/local/lib/python3.6/dist-packages (0.5.0)\n",
            "Requirement already satisfied: pandas in /usr/local/lib/python3.6/dist-packages (0.22.0)\n",
            "Requirement already satisfied: six in /usr/local/lib/python3.6/dist-packages (from patsy) (1.11.0)\n",
            "Requirement already satisfied: numpy>=1.4 in /usr/local/lib/python3.6/dist-packages (from patsy) (1.14.3)\n",
            "Requirement already satisfied: python-dateutil>=2 in /usr/local/lib/python3.6/dist-packages (from pandas) (2.5.3)\n",
            "Requirement already satisfied: pytz>=2011k in /usr/local/lib/python3.6/dist-packages (from pandas) (2018.4)\n"
          ],
          "name": "stdout"
        }
      ]
    },
    {
      "metadata": {
        "id": "imvkajx0qPBD",
        "colab_type": "text"
      },
      "cell_type": "markdown",
      "source": [
        "## Linear Regression \n",
        "베이지안 선형 회귀를  사전분포를 정규분포로 하여 만들어 보려고 한다. \n",
        "\n",
        "### Y ~ N( MU , SIGMA^2)  MU = ALPHA + BETA_1 * X_1 + BETA_2 * X_2\n",
        "\n",
        "### ALPHA ~ N(0, 100)  BETA ~ N(0, 100) SIGAMA ~|N(0,1)|\n",
        "\n",
        "\n",
        "generating data"
      ]
    },
    {
      "metadata": {
        "id": "gUqzedqsqGie",
        "colab_type": "code",
        "colab": {
          "base_uri": "https://localhost:8080/",
          "height": 280
        },
        "outputId": "0b4df59e-5685-4f64-cdaf-dd5a38a93c58"
      },
      "cell_type": "code",
      "source": [
        "import numpy as np\n",
        "import matplotlib.pyplot as plt\n",
        "\n",
        "np.random.seed(123)\n",
        "\n",
        "alpha , sigma = 1,1\n",
        "beta = [1,2.5]\n",
        "\n",
        "size= 100\n",
        "\n",
        "X1 = np.random.randn(size)\n",
        "X2 = np.random.randn(size)*0.2\n",
        "\n",
        "Y = alpha +beta[0]*X1 + beta[1]*X2 +np.random.randn(size)*sigma\n",
        "\n",
        "fig, axes = plt.subplots(1, 2, sharex= True, figsize=(10,4))\n",
        "axes[0].scatter(X1, Y)\n",
        "axes[1].scatter(X2, Y)\n",
        "axes[0].set_ylabel(\"Y\") ; axes[0].set_xlabel(\"X1\") ;\n",
        "axes[1].set_ylabel(\"Y\") ; axes[1].set_xlabel(\"X2\") ;"
      ],
      "execution_count": 3,
      "outputs": [
        {
          "output_type": "display_data",
          "data": {
            "image/png": "[encoded data removed]",
            "text/plain": [
              "<matplotlib.figure.Figure at 0x7ff6b52ef320>"
            ]
          },
          "metadata": {
            "tags": []
          }
        }
      ]
    },
    {
      "metadata": {
        "id": "xnjHM5rJshr-",
        "colab_type": "text"
      },
      "cell_type": "markdown",
      "source": [
        "pymc3로 모델을 짜는것은 문법이 통계적인 명칭에 가깝게 사용하기 때문에 이해하기 쉽다. "
      ]
    },
    {
      "metadata": {
        "id": "TVPl7FbPsWtA",
        "colab_type": "code",
        "colab": {
          "base_uri": "https://localhost:8080/",
          "height": 34
        },
        "outputId": "e86222e1-0c04-44f8-8b32-3e8e61e27fe2"
      },
      "cell_type": "code",
      "source": [
        "import pymc3 as pm\n",
        "print('Running on PyMC3 v{}'.format(pm.__version__))"
      ],
      "execution_count": 5,
      "outputs": [
        {
          "output_type": "stream",
          "text": [
            "Running on PyMC3 v3.4.1\n"
          ],
          "name": "stdout"
        }
      ]
    },
    {
      "metadata": {
        "id": "1w3UNnpksfTn",
        "colab_type": "code",
        "colab": {
          "base_uri": "https://localhost:8080/",
          "height": 52
        },
        "outputId": "86279332-80dd-4095-9ce4-acd679f0f933"
      },
      "cell_type": "code",
      "source": [
        "basic_model = pm.Model()  ## 모델 하나 생성 컨테이너 역할하는 것 빈통을 생성\n",
        "\n",
        "with basic_model :  ##  이 안에서다가 구조를 짜면 된다 . \n",
        "    \n",
        "    #   모델 파라미터로 잘 안알려진 사전분포 - 노말로 설정\n",
        "    ## 이 과정은 stochastic random variables 생성을 한다. \n",
        "    alpha = pm.Normal(\"alpha\", mu=0, sd=10)\n",
        "    beta = pm.Normal(\"beta\", mu=0, sd=10,shape=2) # B_1, B_2 # SHAPE = DEFAULT= 1 SCALAR 값이다 하지만 (5,7) 등등 multidimensional array 생성가능\n",
        "    sigma = pm.HalfNormal(\"sigma\", sd=1)\n",
        "    #T hese are stochastic because their values are partly determined by its parents in the dependency graph of random variables, which for priors are simple constants, and partly random (or stochastic).\n",
        "    \n",
        "    # 결과의 기댓값\n",
        "    mu = alpha + beta[0]*X1 + beta[1]*X2   ## Deterministic 랜덤 변수를 생성하는 것이다 (copletely determined by its par) \n",
        "    \n",
        "    # 관측값에 따른 가능도함수\n",
        "    Y_obs = pm.Normal(\"Y_obs\" , mu=mu, sd=sigma, observed=Y)  ## the sampling distribution of the outcomes in the dataset. ==> observed stochastic, \n",
        "    \n",
        "    \n",
        "    ### the parameters for the normal distribution of Y_obs are not fixed values, \n",
        "    ### but rather are the deterministic object mu and the stochastic sigma. \n",
        "    ### This creates parent-child relationships between the likelihood and these two variables.\n",
        "    "
      ],
      "execution_count": 6,
      "outputs": [
        {
          "output_type": "stream",
          "text": [
            "INFO (theano.gof.compilelock): Waiting for existing lock by process '110' (I am process '1022')\n",
            "INFO (theano.gof.compilelock): To manually release the lock, delete /content/.theano/compiledir_Linux-4.4.111+-x86_64-with-Ubuntu-17.10-artful-x86_64-3.6.3-64/lock_dir\n"
          ],
          "name": "stderr"
        }
      ]
    },
    {
      "metadata": {
        "id": "k0TS-Glesrdl",
        "colab_type": "code",
        "colab": {
          "base_uri": "https://localhost:8080/",
          "height": 2328
        },
        "outputId": "3ad9f7e6-99ad-4873-d2b7-8a7e0f57a635"
      },
      "cell_type": "code",
      "source": [
        "help(pm.Normal) ## help(basic_model)  help(Model), help(Uniform) 너무 길게나와서 안한다. 암튼 다양한 설명이 나온다."
      ],
      "execution_count": 8,
      "outputs": [
        {
          "output_type": "stream",
          "text": [
            "Help on class Normal in module pymc3.distributions.continuous:\n",
            "\n",
            "class Normal(pymc3.distributions.distribution.Continuous)\n",
            " |  Univariate normal log-likelihood.\n",
            " |  \n",
            " |  The pdf of this distribution is\n",
            " |  \n",
            " |  .. math::\n",
            " |  \n",
            " |     f(x \\mid \\mu, \\tau) =\n",
            " |         \\sqrt{\\frac{\\tau}{2\\pi}}\n",
            " |         \\exp\\left\\{ -\\frac{\\tau}{2} (x-\\mu)^2 \\right\\}\n",
            " |  \n",
            " |  Normal distribution can be parameterized either in terms of precision\n",
            " |  or standard deviation. The link between the two parametrizations is\n",
            " |  given by\n",
            " |  \n",
            " |  .. math::\n",
            " |  \n",
            " |     \\tau = \\dfrac{1}{\\sigma^2}\n",
            " |  \n",
            " |  .. plot::\n",
            " |  \n",
            " |      import matplotlib.pyplot as plt\n",
            " |      import numpy as np\n",
            " |      import scipy.stats as st\n",
            " |      plt.style.use('seaborn-darkgrid')\n",
            " |      x = np.linspace(-5, 5, 1000)\n",
            " |      mus = [0., 0., 0., -2.]\n",
            " |      sds = [0.4, 1., 2., 0.4]\n",
            " |      for mu, sd in zip(mus, sds):\n",
            " |          pdf = st.norm.pdf(x, mu, sd)\n",
            " |          plt.plot(x, pdf, label=r'$\\mu$ = {}, $\\sigma$ = {}'.format(mu, sd))\n",
            " |      plt.xlabel('x', fontsize=12)\n",
            " |      plt.ylabel('f(x)', fontsize=12)\n",
            " |      plt.legend(loc=1)\n",
            " |      plt.show()\n",
            " |  \n",
            " |  ========  ==========================================\n",
            " |  Support   :math:`x \\in \\mathbb{R}`\n",
            " |  Mean      :math:`\\mu`\n",
            " |  Variance  :math:`\\dfrac{1}{\\tau}` or :math:`\\sigma^2`\n",
            " |  ========  ==========================================\n",
            " |  \n",
            " |  Parameters\n",
            " |  ----------\n",
            " |  mu : float\n",
            " |      Mean.\n",
            " |  sd : float\n",
            " |      Standard deviation (sd > 0) (only required if tau is not specified).\n",
            " |  tau : float\n",
            " |      Precision (tau > 0) (only required if sd is not specified).\n",
            " |      \n",
            " |  Examples\n",
            " |  --------\n",
            " |  .. code-block:: python\n",
            " |  \n",
            " |      with pm.Model():\n",
            " |          x = pm.Normal('x', mu=0, sd=10)\n",
            " |          \n",
            " |      with pm.Model():\n",
            " |          x = pm.Normal('x', mu=0, tau=1/23)\n",
            " |  \n",
            " |  Method resolution order:\n",
            " |      Normal\n",
            " |      pymc3.distributions.distribution.Continuous\n",
            " |      pymc3.distributions.distribution.Distribution\n",
            " |      builtins.object\n",
            " |  \n",
            " |  Methods defined here:\n",
            " |  \n",
            " |  __init__(self, mu=0, sd=None, tau=None, **kwargs)\n",
            " |      Initialize self.  See help(type(self)) for accurate signature.\n",
            " |  \n",
            " |  logp(self, value)\n",
            " |  \n",
            " |  random(self, point=None, size=None)\n",
            " |  \n",
            " |  ----------------------------------------------------------------------\n",
            " |  Methods inherited from pymc3.distributions.distribution.Distribution:\n",
            " |  \n",
            " |  __getnewargs__(self)\n",
            " |  \n",
            " |  __latex__ = _repr_latex_(self, name=None, dist=None)\n",
            " |      Magic method name for IPython to use for LaTeX formatting.\n",
            " |  \n",
            " |  default(self)\n",
            " |  \n",
            " |  get_test_val(self, val, defaults)\n",
            " |  \n",
            " |  getattr_value(self, val)\n",
            " |  \n",
            " |  logp_nojac(self, *args, **kwargs)\n",
            " |      Return the logp, but do not include a jacobian term for transforms.\n",
            " |      \n",
            " |      If we use different parametrizations for the same distribution, we\n",
            " |      need to add the determinant of the jacobian of the transformation\n",
            " |      to make sure the densities still describe the same distribution.\n",
            " |      However, MAP estimates are not invariant with respect to the\n",
            " |      parametrization, we need to exclude the jacobian terms in this case.\n",
            " |      \n",
            " |      This function should be overwritten in base classes for transformed\n",
            " |      distributions.\n",
            " |  \n",
            " |  logp_sum(self, *args, **kwargs)\n",
            " |      Return the sum of the logp values for the given observations.\n",
            " |      \n",
            " |      Subclasses can use this to improve the speed of logp evaluations\n",
            " |      if only the sum of the logp values is needed.\n",
            " |  \n",
            " |  ----------------------------------------------------------------------\n",
            " |  Class methods inherited from pymc3.distributions.distribution.Distribution:\n",
            " |  \n",
            " |  dist(*args, **kwargs) from builtins.type\n",
            " |  \n",
            " |  ----------------------------------------------------------------------\n",
            " |  Static methods inherited from pymc3.distributions.distribution.Distribution:\n",
            " |  \n",
            " |  __new__(cls, name, *args, **kwargs)\n",
            " |      Create and return a new object.  See help(type) for accurate signature.\n",
            " |  \n",
            " |  ----------------------------------------------------------------------\n",
            " |  Data descriptors inherited from pymc3.distributions.distribution.Distribution:\n",
            " |  \n",
            " |  __dict__\n",
            " |      dictionary for instance variables (if defined)\n",
            " |  \n",
            " |  __weakref__\n",
            " |      list of weak references to the object (if defined)\n",
            "\n"
          ],
          "name": "stdout"
        }
      ]
    },
    {
      "metadata": {
        "id": "TIbbkbxryJht",
        "colab_type": "text"
      },
      "cell_type": "markdown",
      "source": [
        "Model Fitting :  모델에서 알려지지 않은 변수의 사후 추정치를 얻기 위해서 사후 추정치를 계산해야 한다. 그러나 대부분의 중요하지 않은 모델의 경우 이것은 실현 가능하지 않습니다.\n",
        "\n",
        "\n",
        "두가지 접근 방법이 있다\n",
        "\n",
        "\n",
        "1.   MAP (maximum a posteriori)\n",
        "2.   MCMC(Markov chain Monte Carlo)\n",
        "\n",
        "\n",
        "## MAP \n",
        "\n",
        "모델에서 MAP 추정치는 사후분포의 MODE와 같다 그리고 수치적으로 최적화 방법으로 사용한다. 빠르고 쉽지만 모델에 잘 표현이 안되면 편향적인 것을 얻을 수도 있다. \n",
        "\n",
        "### find_MAP\n",
        "\n",
        "The MAP is returned as a parameter point, which is always represented by a Python dictionary of variable names to NumPy arrays of parameter values.\n",
        "\n",
        "By default, find_MAP uses the Broyden–Fletcher–Goldfarb–Shanno (BFGS) optimization algorithm to find the maximum of the log-posterior \n",
        "\n",
        "but also allows selection of other optimization algorithms from the scipy.optimize modul\n",
        "\n"
      ]
    },
    {
      "metadata": {
        "id": "yLy23hyZsrj3",
        "colab_type": "code",
        "colab": {
          "base_uri": "https://localhost:8080/",
          "height": 105
        },
        "outputId": "18a891f4-a730-4f6c-94aa-0cb12ef48ab5"
      },
      "cell_type": "code",
      "source": [
        "map_estimate = pm.find_MAP(model=basic_model)\n",
        "\n",
        "map_estimate"
      ],
      "execution_count": 11,
      "outputs": [
        {
          "output_type": "stream",
          "text": [
            "logp = -149.58, ||grad|| = 12.242: 100%|██████████| 19/19 [00:00<00:00, 1064.50it/s] \n"
          ],
          "name": "stderr"
        },
        {
          "output_type": "execute_result",
          "data": {
            "text/plain": [
              "{'alpha': array(0.90660093),\n",
              " 'beta': array([0.94848596, 2.60711845]),\n",
              " 'sigma': array(0.96298858),\n",
              " 'sigma_log__': array(-0.03771373)}"
            ]
          },
          "metadata": {
            "tags": []
          },
          "execution_count": 11
        }
      ]
    },
    {
      "metadata": {
        "id": "fi3WNZ_-zwEs",
        "colab_type": "text"
      },
      "cell_type": "markdown",
      "source": [
        "For example, below we use Powell’s method to find the MAP."
      ]
    },
    {
      "metadata": {
        "id": "zwibXPAzsrnC",
        "colab_type": "code",
        "colab": {
          "base_uri": "https://localhost:8080/",
          "height": 212
        },
        "outputId": "1ab157e2-2b85-4c54-eb22-bf02a25ef258"
      },
      "cell_type": "code",
      "source": [
        "from scipy import optimize\n",
        "\n",
        "map_estimate = pm.find_MAP(model=basic_model, fmin=optimize.fmin_powell)\n",
        "\n",
        "map_estimate"
      ],
      "execution_count": 12,
      "outputs": [
        {
          "output_type": "stream",
          "text": [
            "/usr/local/lib/python3.6/dist-packages/pymc3/tuning/starting.py:92: UserWarning: In future versions, set the optimization algorithm with a string. For example, use `method=\"L-BFGS-B\"` instead of `fmin=sp.optimize.fmin_l_bfgs_b\"`.\n",
            "  warnings.warn('In future versions, set the optimization algorithm with a string. '\n",
            "logp = -149.47:   4%|▎         | 176/5000 [00:00<00:02, 1704.95it/s]"
          ],
          "name": "stderr"
        },
        {
          "output_type": "stream",
          "text": [
            "Optimization terminated successfully.\n",
            "         Current function value: 148.984564\n",
            "         Iterations: 4\n",
            "         Function evaluations: 176\n"
          ],
          "name": "stdout"
        },
        {
          "output_type": "stream",
          "text": [
            "\n"
          ],
          "name": "stderr"
        },
        {
          "output_type": "execute_result",
          "data": {
            "text/plain": [
              "{'alpha': array(0.90907964),\n",
              " 'beta': array([0.9514399 , 2.61452795]),\n",
              " 'sigma': array(0.96568062),\n",
              " 'sigma_log__': array(-0.03492212)}"
            ]
          },
          "metadata": {
            "tags": []
          },
          "execution_count": 12
        }
      ]
    },
    {
      "metadata": {
        "id": "msxLn3Hpz-Eh",
        "colab_type": "text"
      },
      "cell_type": "markdown",
      "source": [
        "### 하지만 MAP가 항상 합리적인 것은 아니다 ( 특히 모델이 너무 극단적일 때는 ) \n",
        "\n",
        "with high dimensional posteriors, one can have areas of extremely high density but low total probability because the volume is very small\n",
        "\n",
        "(FOR EXAMPLE : hierarchical models with the variance parameter for the random effect )\n",
        "\n",
        "Most techniques for finding the MAP estimate also only find a **local optimum** (which is often good enough), but can fail badly for multimodal posteriors if the different modes are meaningfully different."
      ]
    },
    {
      "metadata": {
        "id": "agPo1MDS0irx",
        "colab_type": "text"
      },
      "cell_type": "markdown",
      "source": [
        "## Sampling methods\n",
        "\n",
        "Though finding the MAP is a fast and easy way of obtaining estimates of the unknown model parameters, it is limited because there is no associated estimate of uncertainty produced with the MAP estimate\n",
        "\n",
        "## MCMC\n",
        "\n",
        "be used to obtain a Markov chain of values that, given the satisfaction of certain conditions, are indistinguishable from samples from the posterior distribution.\n",
        "\n",
        "we specify a step method object that corresponds to a particular MCMC algorithm, such as **Metropolis,** Slice sampling, or **the No-U-Turn Sampler (NUTS)**.\n",
        "\n",
        "### step_methods\n",
        "\n",
        "**NUTS, Metropolis, Slice, HamiltonianMC, and BinaryMetropolis**\n",
        "\n",
        "\n",
        "*  Binary variables will be assigned to BinaryMetropolis\n",
        "*  Discrete variables will be assigned to Metropolis\n",
        "*  Continuous variables will be assigned to NUTS\n",
        "\n",
        "HAS A Sampling algorithms like **adaptive Metropolis-Hastings** and **adaptive slice sampling**\n",
        "\n",
        "PyMC3’s most capable step method is the **No-U-Turn Sampler.** \n",
        "\n",
        "* NUTS is especially useful on models that have many continuous parameters, a situation where other MCMC algorithms work very slowly. \n",
        "* It takes advantage of information about where regions of higher probability are, based on the gradient of the log posterior-density. \n",
        "* This helps it achieve dramatically faster convergence on large problems than traditional sampling methods achieve. \n",
        "* NUTS also has several self-tuning strategies for adaptively setting the tunable parameters of Hamiltonian Monte Carlo\n",
        "* For random variables that are undifferentiable (namely, discrete variables) NUTS cannot be used, **but** it may still be used on the differentiable variables in a model that contains undifferentiable variables.\n",
        "\n",
        "## SCALING MATRIX PARAMETER \n",
        "* NUTS requires a scaling matrix parameter, which is analogous to the variance parameter for the jump proposal distribution in Metropolis-Hastings, although NUTS uses it somewhat differently. \n",
        "* The matrix gives the rough shape of the distribution so that NUTS does not make jumps that are too large in some directions and too small in other directions\n",
        "* It is important to set this scaling parameter to a reasonable value to facilitate efficient sampling\n",
        "* This is especially true for models that have many unobserved stochastic random variables or models with highly non-normal posterior distributions\n",
        "* Poor scaling parameters will slow down NUTS significantly, sometimes almost stopping it completely. \n",
        "\n",
        "##  ADVI (auto-diff variational inference).\n",
        "\n",
        "Fortunately PyMC3 automatically initializes NUTS using another inference algorithm called ADVI (auto-diff variational inference). Moreover, PyMC3 will automatically assign an appropriate sampler \n",
        " "
      ]
    },
    {
      "metadata": {
        "id": "8WMqzHpIsrpF",
        "colab_type": "code",
        "colab": {
          "base_uri": "https://localhost:8080/",
          "height": 214
        },
        "outputId": "705d69cb-1173-44ea-b7c1-9951b88f986c"
      },
      "cell_type": "code",
      "source": [
        "with basic_model:\n",
        "    # draw 500 posterior samples\n",
        "    trace = pm.sample(500) ## default NUTS SAMPLING Mehtod \n",
        "\n",
        "    ## sample 함수는 step method iteration 숫자가 주어진 만큼 할당하는 방법이다 sample 들을 모아준다. \n",
        "    \n",
        "    ## trace 변수이름으로부터 numpy.array로 maping 해준다. "
      ],
      "execution_count": 13,
      "outputs": [
        {
          "output_type": "stream",
          "text": [
            "Auto-assigning NUTS sampler...\n",
            "Initializing NUTS using jitter+adapt_diag...\n",
            "Sequential sampling (2 chains in 1 job)\n",
            "NUTS: [sigma_log__, beta, alpha]\n",
            "100%|██████████| 1000/1000 [00:01<00:00, 740.15it/s]\n",
            "100%|██████████| 1000/1000 [00:01<00:00, 783.48it/s]\n",
            "/usr/local/lib/python3.6/dist-packages/scipy/signal/signaltools.py:375: FutureWarning: Conversion of the second argument of issubdtype from `complex` to `np.complexfloating` is deprecated. In future, it will be treated as `np.complex128 == np.dtype(complex).type`.\n",
            "  complex_result = (np.issubdtype(in1.dtype, complex) or\n",
            "/usr/local/lib/python3.6/dist-packages/scipy/signal/signaltools.py:376: FutureWarning: Conversion of the second argument of issubdtype from `complex` to `np.complexfloating` is deprecated. In future, it will be treated as `np.complex128 == np.dtype(complex).type`.\n",
            "  np.issubdtype(in2.dtype, complex))\n"
          ],
          "name": "stderr"
        }
      ]
    },
    {
      "metadata": {
        "id": "0BejIkWBsrre",
        "colab_type": "code",
        "colab": {
          "base_uri": "https://localhost:8080/",
          "height": 70
        },
        "outputId": "06ff085e-04c1-4881-b5ba-aeb945cbe67c"
      },
      "cell_type": "code",
      "source": [
        "print(trace[\"alpha\"][0:10])\n",
        "trace.varnames"
      ],
      "execution_count": 20,
      "outputs": [
        {
          "output_type": "stream",
          "text": [
            "[0.91317484 0.73306562 0.72035059 1.09205587 1.04631587 1.03124095\n",
            " 0.9063969  0.9063969  0.90041314 0.86826209]\n"
          ],
          "name": "stdout"
        },
        {
          "output_type": "execute_result",
          "data": {
            "text/plain": [
              "['alpha', 'beta', 'sigma_log__', 'sigma']"
            ]
          },
          "metadata": {
            "tags": []
          },
          "execution_count": 20
        }
      ]
    },
    {
      "metadata": {
        "id": "DWtA2eze51d_",
        "colab_type": "text"
      },
      "cell_type": "markdown",
      "source": [
        "만약 NUTS 대신에 SIGMA를 샘플링에 사용하고 싶ㄷ마ㅕㄴ 가능하다."
      ]
    },
    {
      "metadata": {
        "id": "Dq3L4xpvsr-j",
        "colab_type": "code",
        "colab": {
          "base_uri": "https://localhost:8080/",
          "height": 392
        },
        "outputId": "70b9aa6f-4c4b-42cf-9fe1-e146fd4e3f13"
      },
      "cell_type": "code",
      "source": [
        "with basic_model :\n",
        "    start = pm.find_MAP(fmin = optimize.fmin_powell)\n",
        "    \n",
        "    # instaantiate sampler\n",
        "    step = pm.Slice()\n",
        "    \n",
        "    trace = pm.sample(5000,step =step, start=start)"
      ],
      "execution_count": 23,
      "outputs": [
        {
          "output_type": "stream",
          "text": [
            "/usr/local/lib/python3.6/dist-packages/pymc3/tuning/starting.py:92: UserWarning: In future versions, set the optimization algorithm with a string. For example, use `method=\"L-BFGS-B\"` instead of `fmin=sp.optimize.fmin_l_bfgs_b\"`.\n",
            "  warnings.warn('In future versions, set the optimization algorithm with a string. '\n",
            "logp = -149.47:   4%|▎         | 176/5000 [00:00<00:03, 1578.80it/s]\n"
          ],
          "name": "stderr"
        },
        {
          "output_type": "stream",
          "text": [
            "Optimization terminated successfully.\n",
            "         Current function value: 148.984564\n",
            "         Iterations: 4\n",
            "         Function evaluations: 176\n"
          ],
          "name": "stdout"
        },
        {
          "output_type": "stream",
          "text": [
            "Sequential sampling (2 chains in 1 job)\n",
            "CompoundStep\n",
            ">Slice: [sigma_log__]\n",
            ">Slice: [beta]\n",
            ">Slice: [alpha]\n",
            " 91%|█████████ | 4980/5500 [00:09<00:01, 498.91it/s]/usr/local/lib/python3.6/dist-packages/tqdm/_monitor.py:89: TqdmSynchronisationWarning: Set changed size during iteration (see https://github.com/tqdm/tqdm/issues/481)\n",
            "  TqdmSynchronisationWarning)\n",
            "100%|██████████| 5500/5500 [00:11<00:00, 497.51it/s]\n",
            "100%|██████████| 5500/5500 [00:11<00:00, 498.71it/s]\n",
            "/usr/local/lib/python3.6/dist-packages/scipy/signal/signaltools.py:375: FutureWarning: Conversion of the second argument of issubdtype from `complex` to `np.complexfloating` is deprecated. In future, it will be treated as `np.complex128 == np.dtype(complex).type`.\n",
            "  complex_result = (np.issubdtype(in1.dtype, complex) or\n",
            "/usr/local/lib/python3.6/dist-packages/scipy/signal/signaltools.py:376: FutureWarning: Conversion of the second argument of issubdtype from `complex` to `np.complexfloating` is deprecated. In future, it will be treated as `np.complex128 == np.dtype(complex).type`.\n",
            "  np.issubdtype(in2.dtype, complex))\n"
          ],
          "name": "stderr"
        }
      ]
    },
    {
      "metadata": {
        "id": "lrejTzXjssCn",
        "colab_type": "code",
        "colab": {
          "base_uri": "https://localhost:8080/",
          "height": 52
        },
        "outputId": "2f5cab93-affe-48df-d5ed-720a5b6b1987"
      },
      "cell_type": "code",
      "source": [
        "trace[\"alpha\"][0:10]"
      ],
      "execution_count": 24,
      "outputs": [
        {
          "output_type": "execute_result",
          "data": {
            "text/plain": [
              "array([0.86881666, 0.92551493, 0.95153437, 1.01471325, 0.84428572,\n",
              "       0.88852815, 1.0219464 , 0.84787199, 0.9102821 , 0.87083577])"
            ]
          },
          "metadata": {
            "tags": []
          },
          "execution_count": 24
        }
      ]
    },
    {
      "metadata": {
        "id": "VkTH4wFx6qxk",
        "colab_type": "text"
      },
      "cell_type": "markdown",
      "source": [
        "## Posterior analysis \n",
        "pymc3 plot 과 summarization 함수를 제공한다. \n",
        "\n",
        "왼쪽 컬럼은 각각 확률랜덤변수의 마지널 사후 히스토그램을 그려주고 \n",
        "\n",
        "오른쪽 컬럼은 순서대로 마코프 체인의 샘플을 포함하고 있다. \n",
        "\n",
        "beta 변수는 두개의 히스토그램이 생성된다 그리고 계수에 따라서 trace가 생성된다. \n",
        "\n",
        "summary 함수는 공통의 사후 계산치를 제공한다.\n"
      ]
    },
    {
      "metadata": {
        "id": "31MwAXnFssFF",
        "colab_type": "code",
        "colab": {
          "base_uri": "https://localhost:8080/",
          "height": 438
        },
        "outputId": "871b563e-e61b-44f8-edac-6b695cb69a8d"
      },
      "cell_type": "code",
      "source": [
        "_ = pm.traceplot(trace)"
      ],
      "execution_count": 26,
      "outputs": [
        {
          "output_type": "display_data",
          "data": {
            "image/png": "[encoded data removed]",
            "text/plain": [
              "<matplotlib.figure.Figure at 0x7ff6a91050b8>"
            ]
          },
          "metadata": {
            "tags": []
          }
        }
      ]
    },
    {
      "metadata": {
        "id": "-7rz8ghgssHv",
        "colab_type": "code",
        "colab": {
          "base_uri": "https://localhost:8080/",
          "height": 259
        },
        "outputId": "4708ed96-1bfc-4051-fde6-03b280881603"
      },
      "cell_type": "code",
      "source": [
        "pm.summary(trace)"
      ],
      "execution_count": 27,
      "outputs": [
        {
          "output_type": "stream",
          "text": [
            "/usr/local/lib/python3.6/dist-packages/scipy/signal/signaltools.py:375: FutureWarning: Conversion of the second argument of issubdtype from `complex` to `np.complexfloating` is deprecated. In future, it will be treated as `np.complex128 == np.dtype(complex).type`.\n",
            "  complex_result = (np.issubdtype(in1.dtype, complex) or\n",
            "/usr/local/lib/python3.6/dist-packages/scipy/signal/signaltools.py:376: FutureWarning: Conversion of the second argument of issubdtype from `complex` to `np.complexfloating` is deprecated. In future, it will be treated as `np.complex128 == np.dtype(complex).type`.\n",
            "  np.issubdtype(in2.dtype, complex))\n"
          ],
          "name": "stderr"
        },
        {
          "output_type": "execute_result",
          "data": {
            "text/html": [
              "<div>\n",
              "<style scoped>\n",
              "    .dataframe tbody tr th:only-of-type {\n",
              "        vertical-align: middle;\n",
              "    }\n",
              "\n",
              "    .dataframe tbody tr th {\n",
              "        vertical-align: top;\n",
              "    }\n",
              "\n",
              "    .dataframe thead th {\n",
              "        text-align: right;\n",
              "    }\n",
              "</style>\n",
              "<table border=\"1\" class=\"dataframe\">\n",
              "  <thead>\n",
              "    <tr style=\"text-align: right;\">\n",
              "      <th></th>\n",
              "      <th>mean</th>\n",
              "      <th>sd</th>\n",
              "      <th>mc_error</th>\n",
              "      <th>hpd_2.5</th>\n",
              "      <th>hpd_97.5</th>\n",
              "      <th>n_eff</th>\n",
              "      <th>Rhat</th>\n",
              "    </tr>\n",
              "  </thead>\n",
              "  <tbody>\n",
              "    <tr>\n",
              "      <th>alpha</th>\n",
              "      <td>0.905998</td>\n",
              "      <td>0.099738</td>\n",
              "      <td>0.000999</td>\n",
              "      <td>0.707610</td>\n",
              "      <td>1.099741</td>\n",
              "      <td>9794.550908</td>\n",
              "      <td>1.000150</td>\n",
              "    </tr>\n",
              "    <tr>\n",
              "      <th>beta__0</th>\n",
              "      <td>0.946966</td>\n",
              "      <td>0.088491</td>\n",
              "      <td>0.000944</td>\n",
              "      <td>0.774196</td>\n",
              "      <td>1.120322</td>\n",
              "      <td>9950.187470</td>\n",
              "      <td>1.000024</td>\n",
              "    </tr>\n",
              "    <tr>\n",
              "      <th>beta__1</th>\n",
              "      <td>2.647733</td>\n",
              "      <td>0.502535</td>\n",
              "      <td>0.005233</td>\n",
              "      <td>1.688464</td>\n",
              "      <td>3.670133</td>\n",
              "      <td>8430.896186</td>\n",
              "      <td>0.999959</td>\n",
              "    </tr>\n",
              "    <tr>\n",
              "      <th>sigma</th>\n",
              "      <td>0.989538</td>\n",
              "      <td>0.071229</td>\n",
              "      <td>0.000835</td>\n",
              "      <td>0.858421</td>\n",
              "      <td>1.134602</td>\n",
              "      <td>8356.340935</td>\n",
              "      <td>0.999900</td>\n",
              "    </tr>\n",
              "  </tbody>\n",
              "</table>\n",
              "</div>"
            ],
            "text/plain": [
              "             mean        sd  mc_error   hpd_2.5  hpd_97.5        n_eff  \\\n",
              "alpha    0.905998  0.099738  0.000999  0.707610  1.099741  9794.550908   \n",
              "beta__0  0.946966  0.088491  0.000944  0.774196  1.120322  9950.187470   \n",
              "beta__1  2.647733  0.502535  0.005233  1.688464  3.670133  8430.896186   \n",
              "sigma    0.989538  0.071229  0.000835  0.858421  1.134602  8356.340935   \n",
              "\n",
              "             Rhat  \n",
              "alpha    1.000150  \n",
              "beta__0  1.000024  \n",
              "beta__1  0.999959  \n",
              "sigma    0.999900  "
            ]
          },
          "metadata": {
            "tags": []
          },
          "execution_count": 27
        }
      ]
    },
    {
      "metadata": {
        "id": "6O5CK6FTsrzS",
        "colab_type": "code",
        "colab": {}
      },
      "cell_type": "code",
      "source": [
        ""
      ],
      "execution_count": 0,
      "outputs": []
    }
  ]
}