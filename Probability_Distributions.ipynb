{
  "nbformat": 4,
  "nbformat_minor": 0,
  "metadata": {
    "colab": {
      "name": "Probability Distributions.ipynb",
      "version": "0.3.2",
      "provenance": [],
      "collapsed_sections": []
    },
    "kernelspec": {
      "name": "python3",
      "display_name": "Python 3"
    }
  },
  "cells": [
    {
      "cell_type": "markdown",
      "metadata": {
        "id": "view-in-github",
        "colab_type": "text"
      },
      "source": [
        "[View in Colaboratory](https://colab.research.google.com/github/sungreong/Pymc3_bayseian/blob/master/Probability_Distributions.ipynb)"
      ]
    },
    {
      "metadata": {
        "id": "V3Y6AcEK6tPu",
        "colab_type": "text"
      },
      "cell_type": "markdown",
      "source": [
        "\n",
        "베이지안 모델을 구축하는 가장 근본적인 단계는 당면한 문제에 대한 완전한 확률 모델을 지정하는 것입니다\n",
        "\n",
        "이것은 알려지지 않은 모델에서 모수적인 통계적인 분포와 크게 연관이 있다.   \n",
        "게다가 데이터로부터 정보를 표현하기 위해 가능도를 위해 함수적인 형태를 적절하게  한다.  \n",
        "For example, if we wish to define a particular variable as having a normal prior, we can specify that using an instance of the Normal class.\n"
      ]
    },
    {
      "metadata": {
        "id": "hqYi-J-Z7f6s",
        "colab_type": "code",
        "colab": {}
      },
      "cell_type": "code",
      "source": [
        "!pip install git+https://github.com/pymc-devs/pymc3\n",
        "!pip install patsy pandas"
      ],
      "execution_count": 0,
      "outputs": []
    },
    {
      "metadata": {
        "id": "driqOKdw6jHi",
        "colab_type": "code",
        "colab": {}
      },
      "cell_type": "code",
      "source": [
        "import pymc3 as pm\n",
        "with pm.Model() :\n",
        "    \n",
        "    x = pm.Normal(\"x\", mu=0, sd=1)"
      ],
      "execution_count": 0,
      "outputs": []
    },
    {
      "metadata": {
        "id": "IIa_yCx97lPH",
        "colab_type": "text"
      },
      "cell_type": "markdown",
      "source": [
        "변수에는 최소한 **name** argument가 필요하다. 그리고 모델 파라미  역시 필요하다.  \n",
        "파라미터는 가능할 때마다 전통적인 이름을 사용하여 이름을 다양하게 지정 할 수 있다.   \n",
        "a scalar 변수를 위에서 정의 한 예이다 .   \n",
        "vector-valued variable 만들기 위해 a **shape argument**는 제공 되어 진다.  \n",
        "예를 들어 3 x 3 matrix 도 정의 가능하다."
      ]
    },
    {
      "metadata": {
        "id": "y0_JTfb06s2P",
        "colab_type": "code",
        "colab": {}
      },
      "cell_type": "code",
      "source": [
        "with pm.Model() :\n",
        "    p = pm.Beta(\"p\" , 1, 1 , shape=(3, 3))"
      ],
      "execution_count": 0,
      "outputs": []
    },
    {
      "metadata": {
        "id": "UoYxqR_P9TbT",
        "colab_type": "text"
      },
      "cell_type": "markdown",
      "source": [
        "Probability distributions are all subclasses of Distribution, which in turn has two major subclasses: **Discrete and Continuous**  \n",
        "데이터 유형 관점에서  **continuous** random variable 는 given whichever floating point type is defined by **theano.config.floatX**  \n",
        "while **Discrete variables** are given int16 types when **theano.config.floatX is float32, and int64** otherwise\n",
        "\n",
        "### All distributions in pm.distributions will have two important methods: random() and logp() with the following signatures:\n",
        "\n",
        "```\n",
        "class SomeDistribution(Continuous):\n",
        "\n",
        "    def random(self, point=None, size=None, repeat=None):\n",
        "        ...\n",
        "        return random_samples\n",
        "\n",
        "    def logp(self, value):\n",
        "        ...\n",
        "        return total_log_prob\n",
        "```\n",
        "\n",
        "PyMC3 expects the **logp() method** to return a log-probability evaluated at the passed value argument.   \n",
        "This method is used internally by all of the inference methods to calculate the model **log-probability** that is used for fitting models  \n",
        "**The random() method** is used to simulate values from the variable, and is used internally for posterior predictive checks."
      ]
    },
    {
      "metadata": {
        "id": "s1QR-1jlqeG5",
        "colab_type": "text"
      },
      "cell_type": "markdown",
      "source": [
        "## 모델 없이 pymc 분포 사용\n",
        "\n",
        "모델 외부에 창조한다면, 에러가 발생 할 것이다.\n",
        "\n"
      ]
    },
    {
      "metadata": {
        "id": "JmVUYUVw6s5u",
        "colab_type": "code",
        "colab": {
          "base_uri": "https://localhost:8080/",
          "height": 172
        },
        "outputId": "408d0c1d-4aa6-4fb9-aaaa-3add5cc8c87a"
      },
      "cell_type": "code",
      "source": [
        "y = Binomial('y', n=10, p=0.5)"
      ],
      "execution_count": 7,
      "outputs": [
        {
          "output_type": "error",
          "ename": "NameError",
          "evalue": "ignored",
          "traceback": [
            "\u001b[0;31m---------------------------------------------------------------------------\u001b[0m",
            "\u001b[0;31mNameError\u001b[0m                                 Traceback (most recent call last)",
            "\u001b[0;32m<ipython-input-7-8a7a29b80e4b>\u001b[0m in \u001b[0;36m<module>\u001b[0;34m()\u001b[0m\n\u001b[0;32m----> 1\u001b[0;31m \u001b[0my\u001b[0m \u001b[0;34m=\u001b[0m \u001b[0mBinomial\u001b[0m\u001b[0;34m(\u001b[0m\u001b[0;34m'y'\u001b[0m\u001b[0;34m,\u001b[0m \u001b[0mn\u001b[0m\u001b[0;34m=\u001b[0m\u001b[0;36m10\u001b[0m\u001b[0;34m,\u001b[0m \u001b[0mp\u001b[0m\u001b[0;34m=\u001b[0m\u001b[0;36m0.5\u001b[0m\u001b[0;34m)\u001b[0m\u001b[0;34m\u001b[0m\u001b[0m\n\u001b[0m",
            "\u001b[0;31mNameError\u001b[0m: name 'Binomial' is not defined"
          ]
        }
      ]
    },
    {
      "metadata": {
        "id": "mSSRTyR-sAxz",
        "colab_type": "code",
        "colab": {
          "base_uri": "https://localhost:8080/",
          "height": 53
        },
        "outputId": "a274601e-d0bb-4f0c-9fcb-480ad79e7db8"
      },
      "cell_type": "code",
      "source": [
        "y = pm.Binomial.dist(n=10, p=0.5)\n",
        "\n",
        "print(y.logp(4).eval())\n",
        "\n",
        "print(y.random(size=3))"
      ],
      "execution_count": 8,
      "outputs": [
        {
          "output_type": "stream",
          "text": [
            "-1.5843639\n",
            "[3 7 5]\n"
          ],
          "name": "stdout"
        }
      ]
    },
    {
      "metadata": {
        "id": "84CJbv6Et2TH",
        "colab_type": "text"
      },
      "cell_type": "markdown",
      "source": [
        "## Auto-transformation\n",
        "효율적인 mcmc 샘플링 도와주기 위해, 실제 선의 하위 구간으로 제한 된 연속 변수 자동으로 변형 되었다.  \n",
        "그들의 정의역은 제한되지 않았다.  \n",
        "이것은  곙계선을 제한함으로써, 샘플링 알고리즘을 자유롭게 한다.  "
      ]
    },
    {
      "metadata": {
        "id": "mGqRLWUxtwWX",
        "colab_type": "code",
        "colab": {}
      },
      "cell_type": "code",
      "source": [
        "with pm.Model() as model :\n",
        "    g = pm.Gamma(\"g\",1,1)"
      ],
      "execution_count": 0,
      "outputs": []
    },
    {
      "metadata": {
        "id": "51pDFJNOuYjG",
        "colab_type": "code",
        "colab": {
          "base_uri": "https://localhost:8080/",
          "height": 35
        },
        "outputId": "92defb0e-cacf-4921-8e41-c1be0849ea9e"
      },
      "cell_type": "code",
      "source": [
        "model.vars"
      ],
      "execution_count": 10,
      "outputs": [
        {
          "output_type": "execute_result",
          "data": {
            "text/plain": [
              "[g_log__]"
            ]
          },
          "metadata": {
            "tags": []
          },
          "execution_count": 10
        }
      ]
    },
    {
      "metadata": {
        "id": "HX3bAc6Cueye",
        "colab_type": "text"
      },
      "cell_type": "markdown",
      "source": [
        "변수 g 는 log-transformed  \n",
        "기존의 변수는 간단히 deterministic 변수를 다룬다. 때문에 변형된 변수들의 값은 간단히 역 변형되었다.  \n",
        "\n",
        "By default, auto-transformed variables are ignored when summarizing and plotting model output.\n"
      ]
    },
    {
      "metadata": {
        "id": "jW5I8cuVubqO",
        "colab_type": "code",
        "colab": {
          "base_uri": "https://localhost:8080/",
          "height": 35
        },
        "outputId": "801686d5-2dc8-49ab-c63a-ae5c078da13d"
      },
      "cell_type": "code",
      "source": [
        "model.deterministics"
      ],
      "execution_count": 11,
      "outputs": [
        {
          "output_type": "execute_result",
          "data": {
            "text/plain": [
              "[g]"
            ]
          },
          "metadata": {
            "tags": []
          },
          "execution_count": 11
        }
      ]
    },
    {
      "metadata": {
        "id": "dyVw7JBjvEa0",
        "colab_type": "code",
        "colab": {}
      },
      "cell_type": "code",
      "source": [
        ""
      ],
      "execution_count": 0,
      "outputs": []
    }
  ]
}