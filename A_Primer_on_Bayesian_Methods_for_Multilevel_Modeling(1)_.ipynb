{
  "nbformat": 4,
  "nbformat_minor": 0,
  "metadata": {
    "colab": {
      "name": "A Primer on Bayesian Methods for Multilevel Modeling(1) .ipynb",
      "version": "0.3.2",
      "provenance": []
    },
    "kernelspec": {
      "name": "python3",
      "display_name": "Python 3"
    }
  },
  "cells": [
    {
      "cell_type": "markdown",
      "metadata": {
        "id": "view-in-github",
        "colab_type": "text"
      },
      "source": [
        "[View in Colaboratory](https://colab.research.google.com/github/sungreong/Pymc3_bayseian/blob/master/A_Primer_on_Bayesian_Methods_for_Multilevel_Modeling(1)_.ipynb)"
      ]
    },
    {
      "metadata": {
        "id": "6paGW9tkE6fd",
        "colab_type": "code",
        "colab": {
          "base_uri": "https://localhost:8080/",
          "height": 503
        },
        "outputId": "337ec5d4-e5ec-4e00-ca4f-d99edf997eeb"
      },
      "cell_type": "code",
      "source": [
        "!pip install git+https://github.com/pymc-devs/pymc3"
      ],
      "execution_count": 3,
      "outputs": [
        {
          "output_type": "stream",
          "text": [
            "Collecting git+https://github.com/pymc-devs/pymc3\r\n",
            "  Cloning https://github.com/pymc-devs/pymc3 to /tmp/pip-req-build-cloegya9\n",
            "Collecting theano>=1.0.0 (from pymc3==3.4.1)\n",
            "\u001b[33m  Cache entry deserialization failed, entry ignored\u001b[0m\n",
            "  Using cached https://files.pythonhosted.org/packages/99/dd/e43e3da5dd52f1468def552ed3e752bfd6958369478cc906ff07b21af92e/Theano-1.0.2.tar.gz\n",
            "Requirement already satisfied: numpy>=1.13.0 in /usr/local/lib/python3.6/dist-packages (from pymc3==3.4.1) (1.14.3)\n",
            "Requirement already satisfied: pandas>=0.18.0 in /usr/local/lib/python3.6/dist-packages (from pymc3==3.4.1) (0.22.0)\n",
            "Requirement already satisfied: patsy>=0.4.0 in /usr/local/lib/python3.6/dist-packages (from pymc3==3.4.1) (0.5.0)\n",
            "Collecting joblib>=0.9 (from pymc3==3.4.1)\n",
            "\u001b[33m  Cache entry deserialization failed, entry ignored\u001b[0m\n",
            "  Using cached https://files.pythonhosted.org/packages/4f/51/870b2ec270fc29c5d89f85353da420606a9cb39fba4747127e7c7d7eb25d/joblib-0.11-py2.py3-none-any.whl\n",
            "Collecting tqdm>=4.8.4 (from pymc3==3.4.1)\n",
            "\u001b[33m  Cache entry deserialization failed, entry ignored\u001b[0m\n",
            "  Using cached https://files.pythonhosted.org/packages/93/24/6ab1df969db228aed36a648a8959d1027099ce45fad67532b9673d533318/tqdm-4.23.4-py2.py3-none-any.whl\n",
            "Requirement already satisfied: six>=1.10.0 in /usr/local/lib/python3.6/dist-packages (from pymc3==3.4.1) (1.11.0)\n",
            "Requirement already satisfied: h5py>=2.7.0 in /usr/local/lib/python3.6/dist-packages (from pymc3==3.4.1) (2.7.1)\n",
            "Requirement already satisfied: scipy>=0.14 in /usr/local/lib/python3.6/dist-packages (from theano>=1.0.0->pymc3==3.4.1) (0.19.1)\n",
            "Requirement already satisfied: pytz>=2011k in /usr/local/lib/python3.6/dist-packages (from pandas>=0.18.0->pymc3==3.4.1) (2018.4)\n",
            "Requirement already satisfied: python-dateutil>=2 in /usr/local/lib/python3.6/dist-packages (from pandas>=0.18.0->pymc3==3.4.1) (2.5.3)\n",
            "Building wheels for collected packages: pymc3, theano\n",
            "  Running setup.py bdist_wheel for pymc3 ... \u001b[?25l-\b \b\\\b \b|\b \b/\b \b-\b \bdone\n",
            "\u001b[?25h  Stored in directory: /tmp/pip-ephem-wheel-cache-11xeepl1/wheels/a1/e3/71/a696f2af0dd40bccc0ce672d616d21cc9dd90dbdd3f03242f4\n",
            "  Running setup.py bdist_wheel for theano ... \u001b[?25l-\b \b\\\b \b|\b \b/\b \b-\b \b\\\b \b|\b \b/\b \bdone\n",
            "\u001b[?25h  Stored in directory: /content/.cache/pip/wheels/87/1e/28/4a63195927452fb42d4ea6d1e5b3b1690409d66802cc9e1e6e\n",
            "Successfully built pymc3 theano\n",
            "Installing collected packages: theano, joblib, tqdm, pymc3\n",
            "Successfully installed joblib-0.11 pymc3-3.4.1 theano-1.0.2 tqdm-4.23.4\n"
          ],
          "name": "stdout"
        }
      ]
    },
    {
      "metadata": {
        "id": "SX25ImnQFHR5",
        "colab_type": "text"
      },
      "cell_type": "markdown",
      "source": [
        "Hierarchical or multilevel modeling is a generalization of regression modeling  \n",
        "\n",
        "\n",
        "다중 레벨 모델은 구성 모델 매개 변수가 가능성 모델을 제공하는 회귀 모델입니다   \n",
        "This implies that model parameters are allowed to vary by group.  \n",
        "\n",
        "관측 단위들은 종종 군집되어져 있다. 군집화는 두 관측들 사이에서 의존성을 가지고 있다. \n",
        "군집안에서의 랜덤 샘플링과 군집의 랜덤샘플링에도 불구하고\n",
        "\n",
        "계층적 모델(hierarchical model) 은 파라미터들이 하나가 감싸는 다중 레벨 모델이다.  \n",
        "\n",
        "\n",
        "\"국가\"와 \"연도\"는 중첩되지 않지만 매개 변수의 클러스터가 겹치지 만 분리되어 나타납니다\n",
        "\n",
        "# Example : Radom contamination 2006\n",
        "\n"
      ]
    },
    {
      "metadata": {
        "id": "OYSeU7hPE7JD",
        "colab_type": "code",
        "colab": {}
      },
      "cell_type": "code",
      "source": [
        "\n",
        "%matplotlib inline\n",
        "import numpy as np\n",
        "import pandas as pd\n",
        "import matplotlib.pyplot as plt\n",
        "import seaborn as sns\n",
        "sns.set_context('notebook')\n",
        "sns.set_style('white')\n",
        "\n",
        "from pymc3 import get_data\n",
        "\n",
        "# Import radon data\n",
        "srrs2 = pd.read_csv(get_data('srrs2.dat'))\n",
        "srrs2.columns = srrs2.columns.map(str.strip)\n",
        "srrs_mn = srrs2[srrs2.state=='MN'].copy()"
      ],
      "execution_count": 0,
      "outputs": []
    },
    {
      "metadata": {
        "id": "btVT5MKwGWx3",
        "colab_type": "code",
        "colab": {
          "base_uri": "https://localhost:8080/",
          "height": 233
        },
        "outputId": "d30f5917-3b61-40a0-a644-0efed9fdbdd7"
      },
      "cell_type": "code",
      "source": [
        "srrs_mn.head()"
      ],
      "execution_count": 6,
      "outputs": [
        {
          "output_type": "execute_result",
          "data": {
            "text/html": [
              "<div>\n",
              "<style scoped>\n",
              "    .dataframe tbody tr th:only-of-type {\n",
              "        vertical-align: middle;\n",
              "    }\n",
              "\n",
              "    .dataframe tbody tr th {\n",
              "        vertical-align: top;\n",
              "    }\n",
              "\n",
              "    .dataframe thead th {\n",
              "        text-align: right;\n",
              "    }\n",
              "</style>\n",
              "<table border=\"1\" class=\"dataframe\">\n",
              "  <thead>\n",
              "    <tr style=\"text-align: right;\">\n",
              "      <th></th>\n",
              "      <th>idnum</th>\n",
              "      <th>state</th>\n",
              "      <th>state2</th>\n",
              "      <th>stfips</th>\n",
              "      <th>zip</th>\n",
              "      <th>region</th>\n",
              "      <th>typebldg</th>\n",
              "      <th>floor</th>\n",
              "      <th>room</th>\n",
              "      <th>basement</th>\n",
              "      <th>...</th>\n",
              "      <th>stoptm</th>\n",
              "      <th>startdt</th>\n",
              "      <th>stopdt</th>\n",
              "      <th>activity</th>\n",
              "      <th>pcterr</th>\n",
              "      <th>adjwt</th>\n",
              "      <th>dupflag</th>\n",
              "      <th>zipflag</th>\n",
              "      <th>cntyfips</th>\n",
              "      <th>county</th>\n",
              "    </tr>\n",
              "  </thead>\n",
              "  <tbody>\n",
              "    <tr>\n",
              "      <th>5080</th>\n",
              "      <td>5081</td>\n",
              "      <td>MN</td>\n",
              "      <td>MN</td>\n",
              "      <td>27</td>\n",
              "      <td>55735</td>\n",
              "      <td>5</td>\n",
              "      <td>1</td>\n",
              "      <td>1</td>\n",
              "      <td>3</td>\n",
              "      <td>N</td>\n",
              "      <td>...</td>\n",
              "      <td>930</td>\n",
              "      <td>12088</td>\n",
              "      <td>12288</td>\n",
              "      <td>2.2</td>\n",
              "      <td>9.7</td>\n",
              "      <td>1146.499190</td>\n",
              "      <td>1</td>\n",
              "      <td>0</td>\n",
              "      <td>1</td>\n",
              "      <td>AITKIN</td>\n",
              "    </tr>\n",
              "    <tr>\n",
              "      <th>5081</th>\n",
              "      <td>5082</td>\n",
              "      <td>MN</td>\n",
              "      <td>MN</td>\n",
              "      <td>27</td>\n",
              "      <td>55748</td>\n",
              "      <td>5</td>\n",
              "      <td>1</td>\n",
              "      <td>0</td>\n",
              "      <td>4</td>\n",
              "      <td>Y</td>\n",
              "      <td>...</td>\n",
              "      <td>1615</td>\n",
              "      <td>11888</td>\n",
              "      <td>12088</td>\n",
              "      <td>2.2</td>\n",
              "      <td>14.5</td>\n",
              "      <td>471.366223</td>\n",
              "      <td>0</td>\n",
              "      <td>0</td>\n",
              "      <td>1</td>\n",
              "      <td>AITKIN</td>\n",
              "    </tr>\n",
              "    <tr>\n",
              "      <th>5082</th>\n",
              "      <td>5083</td>\n",
              "      <td>MN</td>\n",
              "      <td>MN</td>\n",
              "      <td>27</td>\n",
              "      <td>55748</td>\n",
              "      <td>5</td>\n",
              "      <td>1</td>\n",
              "      <td>0</td>\n",
              "      <td>4</td>\n",
              "      <td>Y</td>\n",
              "      <td>...</td>\n",
              "      <td>1515</td>\n",
              "      <td>20288</td>\n",
              "      <td>21188</td>\n",
              "      <td>2.9</td>\n",
              "      <td>9.6</td>\n",
              "      <td>433.316718</td>\n",
              "      <td>0</td>\n",
              "      <td>0</td>\n",
              "      <td>1</td>\n",
              "      <td>AITKIN</td>\n",
              "    </tr>\n",
              "    <tr>\n",
              "      <th>5083</th>\n",
              "      <td>5084</td>\n",
              "      <td>MN</td>\n",
              "      <td>MN</td>\n",
              "      <td>27</td>\n",
              "      <td>56469</td>\n",
              "      <td>5</td>\n",
              "      <td>1</td>\n",
              "      <td>0</td>\n",
              "      <td>4</td>\n",
              "      <td>Y</td>\n",
              "      <td>...</td>\n",
              "      <td>1410</td>\n",
              "      <td>122987</td>\n",
              "      <td>123187</td>\n",
              "      <td>1.0</td>\n",
              "      <td>24.3</td>\n",
              "      <td>461.623670</td>\n",
              "      <td>0</td>\n",
              "      <td>0</td>\n",
              "      <td>1</td>\n",
              "      <td>AITKIN</td>\n",
              "    </tr>\n",
              "    <tr>\n",
              "      <th>5084</th>\n",
              "      <td>5085</td>\n",
              "      <td>MN</td>\n",
              "      <td>MN</td>\n",
              "      <td>27</td>\n",
              "      <td>55011</td>\n",
              "      <td>3</td>\n",
              "      <td>1</td>\n",
              "      <td>0</td>\n",
              "      <td>4</td>\n",
              "      <td>Y</td>\n",
              "      <td>...</td>\n",
              "      <td>600</td>\n",
              "      <td>12888</td>\n",
              "      <td>13088</td>\n",
              "      <td>3.1</td>\n",
              "      <td>13.8</td>\n",
              "      <td>433.316718</td>\n",
              "      <td>0</td>\n",
              "      <td>0</td>\n",
              "      <td>3</td>\n",
              "      <td>ANOKA</td>\n",
              "    </tr>\n",
              "  </tbody>\n",
              "</table>\n",
              "<p>5 rows × 25 columns</p>\n",
              "</div>"
            ],
            "text/plain": [
              "      idnum state state2  stfips    zip  region  typebldg  floor  room  \\\n",
              "5080   5081    MN     MN      27  55735       5         1      1     3   \n",
              "5081   5082    MN     MN      27  55748       5         1      0     4   \n",
              "5082   5083    MN     MN      27  55748       5         1      0     4   \n",
              "5083   5084    MN     MN      27  56469       5         1      0     4   \n",
              "5084   5085    MN     MN      27  55011       3         1      0     4   \n",
              "\n",
              "     basement          ...          stoptm startdt  stopdt activity  pcterr  \\\n",
              "5080        N          ...             930   12088   12288      2.2     9.7   \n",
              "5081        Y          ...            1615   11888   12088      2.2    14.5   \n",
              "5082        Y          ...            1515   20288   21188      2.9     9.6   \n",
              "5083        Y          ...            1410  122987  123187      1.0    24.3   \n",
              "5084        Y          ...             600   12888   13088      3.1    13.8   \n",
              "\n",
              "            adjwt  dupflag  zipflag  cntyfips                county  \n",
              "5080  1146.499190        1        0         1  AITKIN                \n",
              "5081   471.366223        0        0         1  AITKIN                \n",
              "5082   433.316718        0        0         1  AITKIN                \n",
              "5083   461.623670        0        0         1  AITKIN                \n",
              "5084   433.316718        0        0         3  ANOKA                 \n",
              "\n",
              "[5 rows x 25 columns]"
            ]
          },
          "metadata": {
            "tags": []
          },
          "execution_count": 6
        }
      ]
    },
    {
      "metadata": {
        "id": "U-k2ux9uGf_u",
        "colab_type": "code",
        "colab": {
          "base_uri": "https://localhost:8080/",
          "height": 312
        },
        "outputId": "617a6f8d-72bc-49a0-ee0b-51cf6897193d"
      },
      "cell_type": "code",
      "source": [
        "srrs_mn['fips'] = srrs_mn.stfips*1000 + srrs_mn.cntyfips\n",
        "cty = pd.read_csv(get_data('cty.dat'))\n",
        "cty_mn = cty[cty.st=='MN'].copy()\n",
        "print(srrs_mn[\"fips\"].head())\n",
        "cty_mn[ 'fips'] = 1000*cty_mn.stfips + cty_mn.ctfips\n",
        "cty_mn.head()"
      ],
      "execution_count": 9,
      "outputs": [
        {
          "output_type": "stream",
          "text": [
            "5080    27001\n",
            "5081    27001\n",
            "5082    27001\n",
            "5083    27001\n",
            "5084    27003\n",
            "Name: fips, dtype: int64\n"
          ],
          "name": "stdout"
        },
        {
          "output_type": "execute_result",
          "data": {
            "text/html": [
              "<div>\n",
              "<style scoped>\n",
              "    .dataframe tbody tr th:only-of-type {\n",
              "        vertical-align: middle;\n",
              "    }\n",
              "\n",
              "    .dataframe tbody tr th {\n",
              "        vertical-align: top;\n",
              "    }\n",
              "\n",
              "    .dataframe thead th {\n",
              "        text-align: right;\n",
              "    }\n",
              "</style>\n",
              "<table border=\"1\" class=\"dataframe\">\n",
              "  <thead>\n",
              "    <tr style=\"text-align: right;\">\n",
              "      <th></th>\n",
              "      <th>stfips</th>\n",
              "      <th>ctfips</th>\n",
              "      <th>st</th>\n",
              "      <th>cty</th>\n",
              "      <th>lon</th>\n",
              "      <th>lat</th>\n",
              "      <th>Uppm</th>\n",
              "      <th>fips</th>\n",
              "    </tr>\n",
              "  </thead>\n",
              "  <tbody>\n",
              "    <tr>\n",
              "      <th>1326</th>\n",
              "      <td>27</td>\n",
              "      <td>1</td>\n",
              "      <td>MN</td>\n",
              "      <td>AITKIN</td>\n",
              "      <td>-93.415</td>\n",
              "      <td>46.608</td>\n",
              "      <td>0.502054</td>\n",
              "      <td>27001</td>\n",
              "    </tr>\n",
              "    <tr>\n",
              "      <th>1327</th>\n",
              "      <td>27</td>\n",
              "      <td>3</td>\n",
              "      <td>MN</td>\n",
              "      <td>ANOKA</td>\n",
              "      <td>-93.246</td>\n",
              "      <td>45.273</td>\n",
              "      <td>0.428565</td>\n",
              "      <td>27003</td>\n",
              "    </tr>\n",
              "    <tr>\n",
              "      <th>1328</th>\n",
              "      <td>27</td>\n",
              "      <td>5</td>\n",
              "      <td>MN</td>\n",
              "      <td>BECKER</td>\n",
              "      <td>-95.674</td>\n",
              "      <td>46.935</td>\n",
              "      <td>0.892741</td>\n",
              "      <td>27005</td>\n",
              "    </tr>\n",
              "    <tr>\n",
              "      <th>1329</th>\n",
              "      <td>27</td>\n",
              "      <td>7</td>\n",
              "      <td>MN</td>\n",
              "      <td>BELTRAMI</td>\n",
              "      <td>-94.937</td>\n",
              "      <td>47.974</td>\n",
              "      <td>0.552472</td>\n",
              "      <td>27007</td>\n",
              "    </tr>\n",
              "    <tr>\n",
              "      <th>1330</th>\n",
              "      <td>27</td>\n",
              "      <td>9</td>\n",
              "      <td>MN</td>\n",
              "      <td>BENTON</td>\n",
              "      <td>-93.998</td>\n",
              "      <td>45.699</td>\n",
              "      <td>0.866849</td>\n",
              "      <td>27009</td>\n",
              "    </tr>\n",
              "  </tbody>\n",
              "</table>\n",
              "</div>"
            ],
            "text/plain": [
              "      stfips  ctfips  st       cty     lon     lat      Uppm   fips\n",
              "1326      27       1  MN    AITKIN -93.415  46.608  0.502054  27001\n",
              "1327      27       3  MN     ANOKA -93.246  45.273  0.428565  27003\n",
              "1328      27       5  MN    BECKER -95.674  46.935  0.892741  27005\n",
              "1329      27       7  MN  BELTRAMI -94.937  47.974  0.552472  27007\n",
              "1330      27       9  MN    BENTON -93.998  45.699  0.866849  27009"
            ]
          },
          "metadata": {
            "tags": []
          },
          "execution_count": 9
        }
      ]
    },
    {
      "metadata": {
        "id": "SULSFB1BGnqf",
        "colab_type": "code",
        "colab": {
          "base_uri": "https://localhost:8080/",
          "height": 233
        },
        "outputId": "d59d0c7f-deda-4002-c1fe-f66eccffd597"
      },
      "cell_type": "code",
      "source": [
        "\n",
        "srrs_mn = srrs_mn.merge(cty_mn[['fips', 'Uppm']], on='fips')\n",
        "srrs_mn = srrs_mn.drop_duplicates(subset='idnum')\n",
        "u = np.log(srrs_mn.Uppm)\n",
        "\n",
        "n = len(srrs_mn)\n",
        "\n",
        "srrs_mn.head()"
      ],
      "execution_count": 10,
      "outputs": [
        {
          "output_type": "execute_result",
          "data": {
            "text/html": [
              "<div>\n",
              "<style scoped>\n",
              "    .dataframe tbody tr th:only-of-type {\n",
              "        vertical-align: middle;\n",
              "    }\n",
              "\n",
              "    .dataframe tbody tr th {\n",
              "        vertical-align: top;\n",
              "    }\n",
              "\n",
              "    .dataframe thead th {\n",
              "        text-align: right;\n",
              "    }\n",
              "</style>\n",
              "<table border=\"1\" class=\"dataframe\">\n",
              "  <thead>\n",
              "    <tr style=\"text-align: right;\">\n",
              "      <th></th>\n",
              "      <th>idnum</th>\n",
              "      <th>state</th>\n",
              "      <th>state2</th>\n",
              "      <th>stfips</th>\n",
              "      <th>zip</th>\n",
              "      <th>region</th>\n",
              "      <th>typebldg</th>\n",
              "      <th>floor</th>\n",
              "      <th>room</th>\n",
              "      <th>basement</th>\n",
              "      <th>...</th>\n",
              "      <th>stopdt</th>\n",
              "      <th>activity</th>\n",
              "      <th>pcterr</th>\n",
              "      <th>adjwt</th>\n",
              "      <th>dupflag</th>\n",
              "      <th>zipflag</th>\n",
              "      <th>cntyfips</th>\n",
              "      <th>county</th>\n",
              "      <th>fips</th>\n",
              "      <th>Uppm</th>\n",
              "    </tr>\n",
              "  </thead>\n",
              "  <tbody>\n",
              "    <tr>\n",
              "      <th>0</th>\n",
              "      <td>5081</td>\n",
              "      <td>MN</td>\n",
              "      <td>MN</td>\n",
              "      <td>27</td>\n",
              "      <td>55735</td>\n",
              "      <td>5</td>\n",
              "      <td>1</td>\n",
              "      <td>1</td>\n",
              "      <td>3</td>\n",
              "      <td>N</td>\n",
              "      <td>...</td>\n",
              "      <td>12288</td>\n",
              "      <td>2.2</td>\n",
              "      <td>9.7</td>\n",
              "      <td>1146.499190</td>\n",
              "      <td>1</td>\n",
              "      <td>0</td>\n",
              "      <td>1</td>\n",
              "      <td>AITKIN</td>\n",
              "      <td>27001</td>\n",
              "      <td>0.502054</td>\n",
              "    </tr>\n",
              "    <tr>\n",
              "      <th>1</th>\n",
              "      <td>5082</td>\n",
              "      <td>MN</td>\n",
              "      <td>MN</td>\n",
              "      <td>27</td>\n",
              "      <td>55748</td>\n",
              "      <td>5</td>\n",
              "      <td>1</td>\n",
              "      <td>0</td>\n",
              "      <td>4</td>\n",
              "      <td>Y</td>\n",
              "      <td>...</td>\n",
              "      <td>12088</td>\n",
              "      <td>2.2</td>\n",
              "      <td>14.5</td>\n",
              "      <td>471.366223</td>\n",
              "      <td>0</td>\n",
              "      <td>0</td>\n",
              "      <td>1</td>\n",
              "      <td>AITKIN</td>\n",
              "      <td>27001</td>\n",
              "      <td>0.502054</td>\n",
              "    </tr>\n",
              "    <tr>\n",
              "      <th>2</th>\n",
              "      <td>5083</td>\n",
              "      <td>MN</td>\n",
              "      <td>MN</td>\n",
              "      <td>27</td>\n",
              "      <td>55748</td>\n",
              "      <td>5</td>\n",
              "      <td>1</td>\n",
              "      <td>0</td>\n",
              "      <td>4</td>\n",
              "      <td>Y</td>\n",
              "      <td>...</td>\n",
              "      <td>21188</td>\n",
              "      <td>2.9</td>\n",
              "      <td>9.6</td>\n",
              "      <td>433.316718</td>\n",
              "      <td>0</td>\n",
              "      <td>0</td>\n",
              "      <td>1</td>\n",
              "      <td>AITKIN</td>\n",
              "      <td>27001</td>\n",
              "      <td>0.502054</td>\n",
              "    </tr>\n",
              "    <tr>\n",
              "      <th>3</th>\n",
              "      <td>5084</td>\n",
              "      <td>MN</td>\n",
              "      <td>MN</td>\n",
              "      <td>27</td>\n",
              "      <td>56469</td>\n",
              "      <td>5</td>\n",
              "      <td>1</td>\n",
              "      <td>0</td>\n",
              "      <td>4</td>\n",
              "      <td>Y</td>\n",
              "      <td>...</td>\n",
              "      <td>123187</td>\n",
              "      <td>1.0</td>\n",
              "      <td>24.3</td>\n",
              "      <td>461.623670</td>\n",
              "      <td>0</td>\n",
              "      <td>0</td>\n",
              "      <td>1</td>\n",
              "      <td>AITKIN</td>\n",
              "      <td>27001</td>\n",
              "      <td>0.502054</td>\n",
              "    </tr>\n",
              "    <tr>\n",
              "      <th>4</th>\n",
              "      <td>5085</td>\n",
              "      <td>MN</td>\n",
              "      <td>MN</td>\n",
              "      <td>27</td>\n",
              "      <td>55011</td>\n",
              "      <td>3</td>\n",
              "      <td>1</td>\n",
              "      <td>0</td>\n",
              "      <td>4</td>\n",
              "      <td>Y</td>\n",
              "      <td>...</td>\n",
              "      <td>13088</td>\n",
              "      <td>3.1</td>\n",
              "      <td>13.8</td>\n",
              "      <td>433.316718</td>\n",
              "      <td>0</td>\n",
              "      <td>0</td>\n",
              "      <td>3</td>\n",
              "      <td>ANOKA</td>\n",
              "      <td>27003</td>\n",
              "      <td>0.428565</td>\n",
              "    </tr>\n",
              "  </tbody>\n",
              "</table>\n",
              "<p>5 rows × 27 columns</p>\n",
              "</div>"
            ],
            "text/plain": [
              "   idnum state state2  stfips    zip  region  typebldg  floor  room basement  \\\n",
              "0   5081    MN     MN      27  55735       5         1      1     3        N   \n",
              "1   5082    MN     MN      27  55748       5         1      0     4        Y   \n",
              "2   5083    MN     MN      27  55748       5         1      0     4        Y   \n",
              "3   5084    MN     MN      27  56469       5         1      0     4        Y   \n",
              "4   5085    MN     MN      27  55011       3         1      0     4        Y   \n",
              "\n",
              "     ...     stopdt activity  pcterr        adjwt  dupflag  zipflag  cntyfips  \\\n",
              "0    ...      12288      2.2     9.7  1146.499190        1        0         1   \n",
              "1    ...      12088      2.2    14.5   471.366223        0        0         1   \n",
              "2    ...      21188      2.9     9.6   433.316718        0        0         1   \n",
              "3    ...     123187      1.0    24.3   461.623670        0        0         1   \n",
              "4    ...      13088      3.1    13.8   433.316718        0        0         3   \n",
              "\n",
              "                 county   fips      Uppm  \n",
              "0  AITKIN                27001  0.502054  \n",
              "1  AITKIN                27001  0.502054  \n",
              "2  AITKIN                27001  0.502054  \n",
              "3  AITKIN                27001  0.502054  \n",
              "4  ANOKA                 27003  0.428565  \n",
              "\n",
              "[5 rows x 27 columns]"
            ]
          },
          "metadata": {
            "tags": []
          },
          "execution_count": 10
        }
      ]
    },
    {
      "metadata": {
        "id": "RbXBruDnG1De",
        "colab_type": "code",
        "colab": {
          "base_uri": "https://localhost:8080/",
          "height": 197
        },
        "outputId": "36fa9208-8114-4886-e52d-fed30ba1eb71"
      },
      "cell_type": "code",
      "source": [
        "srrs_mn.county = srrs_mn.county.map(str.strip)\n",
        "mn_counties = srrs_mn.county.unique()\n",
        "counties = len(mn_counties)\n",
        "county_lookup = dict(zip(mn_counties, range(len(mn_counties))))\n",
        "list(county_lookup)[0:10]"
      ],
      "execution_count": 19,
      "outputs": [
        {
          "output_type": "execute_result",
          "data": {
            "text/plain": [
              "['AITKIN',\n",
              " 'ANOKA',\n",
              " 'BECKER',\n",
              " 'BELTRAMI',\n",
              " 'BENTON',\n",
              " 'BIG STONE',\n",
              " 'BLUE EARTH',\n",
              " 'BROWN',\n",
              " 'CARLTON',\n",
              " 'CARVER']"
            ]
          },
          "metadata": {
            "tags": []
          },
          "execution_count": 19
        }
      ]
    },
    {
      "metadata": {
        "id": "XfdeqgdWG_Xu",
        "colab_type": "code",
        "colab": {
          "base_uri": "https://localhost:8080/",
          "height": 35
        },
        "outputId": "cdc1a424-ea29-4cdd-8cc7-1f8b81e9b2c6"
      },
      "cell_type": "code",
      "source": [
        "srrs_mn.county.replace(county_lookup).values[0:10]"
      ],
      "execution_count": 22,
      "outputs": [
        {
          "output_type": "execute_result",
          "data": {
            "text/plain": [
              "array([0, 0, 0, 0, 1, 1, 1, 1, 1, 1])"
            ]
          },
          "metadata": {
            "tags": []
          },
          "execution_count": 22
        }
      ]
    },
    {
      "metadata": {
        "id": "-Kuda5hwHWQn",
        "colab_type": "code",
        "colab": {
          "base_uri": "https://localhost:8080/",
          "height": 35
        },
        "outputId": "db8e27bc-78a6-46d7-ca1c-49a641d808c5"
      },
      "cell_type": "code",
      "source": [
        "county = srrs_mn['county_code'] = srrs_mn.county.replace(county_lookup).values\n",
        "radon = srrs_mn.activity\n",
        "srrs_mn['log_radon'] = log_radon = np.log(radon + 0.1).values\n",
        "floor_measure = srrs_mn.floor.values\n",
        "floor_measure[0:10]"
      ],
      "execution_count": 24,
      "outputs": [
        {
          "output_type": "execute_result",
          "data": {
            "text/plain": [
              "array([1, 0, 0, 0, 0, 0, 0, 0, 0, 0])"
            ]
          },
          "metadata": {
            "tags": []
          },
          "execution_count": 24
        }
      ]
    },
    {
      "metadata": {
        "id": "MRRFJjyOHfZF",
        "colab_type": "code",
        "colab": {
          "base_uri": "https://localhost:8080/",
          "height": 347
        },
        "outputId": "e6189898-f88a-441e-eebb-989825e2abeb"
      },
      "cell_type": "code",
      "source": [
        "rrs_mn.activity.apply(lambda x: np.log(x+0.1)).hist(bins=25);"
      ],
      "execution_count": 25,
      "outputs": [
        {
          "output_type": "display_data",
          "data": {
            "image/png": "[encoded data removed]",
            "text/plain": [
              "<matplotlib.figure.Figure at 0x7f17fd7d3a90>"
            ]
          },
          "metadata": {
            "tags": []
          }
        }
      ]
    },
    {
      "metadata": {
        "id": "LuVzMt8NHpWM",
        "colab_type": "text"
      },
      "cell_type": "markdown",
      "source": [
        "전통적인 접근들 \n",
        "\n",
        "randon 노출에 대한 2개의 전톡적인 모델링은 bias-variance trade off 두 극단적인 값을 표현한다.  \n",
        "\n",
        "##  Complete pooling \n",
        "Treat all counties the same, and estimate a single radon level.\n",
        "\n",
        "$ y_i = \\alpha + \\beta x_i + \\epsilon_i $\n",
        "\n",
        "##  No pooling\n",
        "Model radon in each county independently.\n",
        "\n",
        "$ y_i = \\alpha_{j[i]}+\\beta x_i + \\epsilon_i \\quad    j = 1,\\ ...\\ , 85$\n",
        "\n",
        "The errors $\\epsilon_i $ may represent measurement error, temporal within-house variation, or variation among houses.\n",
        "\n",
        "\n"
      ]
    },
    {
      "metadata": {
        "id": "DZ601ZKZJPkz",
        "colab_type": "text"
      },
      "cell_type": "markdown",
      "source": [
        "**Complete  poolong **\n",
        "\n",
        "slope , intercept\n",
        "\n",
        "\n",
        "\n"
      ]
    },
    {
      "metadata": {
        "id": "Fx28WJslHkrt",
        "colab_type": "code",
        "colab": {}
      },
      "cell_type": "code",
      "source": [
        "from pymc3 import Model, sample, Normal, HalfCauchy, Uniform\n",
        "\n",
        "floor = srrs_mn.floor.values\n",
        "log_radon = srrs_mn.log_radon.values\n",
        "\n"
      ],
      "execution_count": 0,
      "outputs": []
    },
    {
      "metadata": {
        "id": "_4t_xzcWJdcp",
        "colab_type": "code",
        "colab": {}
      },
      "cell_type": "code",
      "source": [
        "with Model() as pooled_model:\n",
        "\n",
        "    beta = Normal('beta', 0, sd=1e5, shape=2)\n",
        "    sigma = HalfCauchy('sigma', 5)\n",
        "\n",
        "    theta = beta[0] + beta[1]*floor\n",
        "\n",
        "    y = Normal('y', theta, sd=sigma, observed=log_radon)"
      ],
      "execution_count": 0,
      "outputs": []
    },
    {
      "metadata": {
        "id": "IfcruVGKJkhg",
        "colab_type": "code",
        "colab": {
          "base_uri": "https://localhost:8080/",
          "height": 217
        },
        "outputId": "d788abcc-f4d4-40fc-8431-a635a98d62dd"
      },
      "cell_type": "code",
      "source": [
        "with pooled_model:\n",
        "    pooled_trace = sample(1000, n_init=50000, tune=1000)"
      ],
      "execution_count": 31,
      "outputs": [
        {
          "output_type": "stream",
          "text": [
            "Auto-assigning NUTS sampler...\n",
            "Initializing NUTS using jitter+adapt_diag...\n",
            "Sequential sampling (2 chains in 1 job)\n",
            "NUTS: [sigma, beta]\n",
            "100%|██████████| 2000/2000 [00:02<00:00, 790.56it/s]\n",
            "100%|██████████| 2000/2000 [00:01<00:00, 1184.09it/s]\n",
            "/usr/local/lib/python3.6/dist-packages/scipy/signal/signaltools.py:375: FutureWarning: Conversion of the second argument of issubdtype from `complex` to `np.complexfloating` is deprecated. In future, it will be treated as `np.complex128 == np.dtype(complex).type`.\n",
            "  complex_result = (np.issubdtype(in1.dtype, complex) or\n",
            "/usr/local/lib/python3.6/dist-packages/scipy/signal/signaltools.py:376: FutureWarning: Conversion of the second argument of issubdtype from `complex` to `np.complexfloating` is deprecated. In future, it will be treated as `np.complex128 == np.dtype(complex).type`.\n",
            "  np.issubdtype(in2.dtype, complex))\n"
          ],
          "name": "stderr"
        }
      ]
    },
    {
      "metadata": {
        "id": "uUVx057ZJnsy",
        "colab_type": "code",
        "colab": {
          "base_uri": "https://localhost:8080/",
          "height": 35
        },
        "outputId": "c9bab9d7-6708-4f99-dc11-4792457cdb49"
      },
      "cell_type": "code",
      "source": [
        "b0, m0 = pooled_trace['beta'].mean(axis=0)\n"
      ],
      "execution_count": 33,
      "outputs": [
        {
          "output_type": "execute_result",
          "data": {
            "text/plain": [
              "1.3637361516525905"
            ]
          },
          "metadata": {
            "tags": []
          },
          "execution_count": 33
        }
      ]
    },
    {
      "metadata": {
        "id": "6kiX-PRpJ2TJ",
        "colab_type": "code",
        "colab": {
          "base_uri": "https://localhost:8080/",
          "height": 347
        },
        "outputId": "d5d218d4-05b7-4fca-bcee-18288885e8bc"
      },
      "cell_type": "code",
      "source": [
        "plt.scatter(srrs_mn.floor, np.log(srrs_mn.activity+0.1))\n",
        "xvals = np.linspace(-0.2, 1.2)\n",
        "plt.plot(xvals, m0*xvals+b0, 'r--');"
      ],
      "execution_count": 34,
      "outputs": [
        {
          "output_type": "display_data",
          "data": {
            "image/png": "[encoded data removed]",
            "text/plain": [
              "<matplotlib.figure.Figure at 0x7f17fd7297f0>"
            ]
          },
          "metadata": {
            "tags": []
          }
        }
      ]
    },
    {
      "metadata": {
        "id": "UgTjMYYiKUVh",
        "colab_type": "code",
        "colab": {
          "base_uri": "https://localhost:8080/",
          "height": 318
        },
        "outputId": "22a0d02b-a8ff-4f5c-f921-a57197b924f1"
      },
      "cell_type": "code",
      "source": [
        "print(counties)\n",
        "mn_counties\n"
      ],
      "execution_count": 39,
      "outputs": [
        {
          "output_type": "stream",
          "text": [
            "85\n"
          ],
          "name": "stdout"
        },
        {
          "output_type": "execute_result",
          "data": {
            "text/plain": [
              "array(['AITKIN', 'ANOKA', 'BECKER', 'BELTRAMI', 'BENTON', 'BIG STONE',\n",
              "       'BLUE EARTH', 'BROWN', 'CARLTON', 'CARVER', 'CASS', 'CHIPPEWA',\n",
              "       'CHISAGO', 'CLAY', 'CLEARWATER', 'COOK', 'COTTONWOOD', 'CROW WING',\n",
              "       'DAKOTA', 'DODGE', 'DOUGLAS', 'FARIBAULT', 'FILLMORE', 'FREEBORN',\n",
              "       'GOODHUE', 'HENNEPIN', 'HOUSTON', 'HUBBARD', 'ISANTI', 'ITASCA',\n",
              "       'JACKSON', 'KANABEC', 'KANDIYOHI', 'KITTSON', 'KOOCHICHING',\n",
              "       'LAC QUI PARLE', 'LAKE', 'LAKE OF THE WOODS', 'LE SUEUR',\n",
              "       'LINCOLN', 'LYON', 'MAHNOMEN', 'MARSHALL', 'MARTIN', 'MCLEOD',\n",
              "       'MEEKER', 'MILLE LACS', 'MORRISON', 'MOWER', 'MURRAY', 'NICOLLET',\n",
              "       'NOBLES', 'NORMAN', 'OLMSTED', 'OTTER TAIL', 'PENNINGTON', 'PINE',\n",
              "       'PIPESTONE', 'POLK', 'POPE', 'RAMSEY', 'REDWOOD', 'RENVILLE',\n",
              "       'RICE', 'ROCK', 'ROSEAU', 'SCOTT', 'SHERBURNE', 'SIBLEY',\n",
              "       'ST LOUIS', 'STEARNS', 'STEELE', 'STEVENS', 'SWIFT', 'TODD',\n",
              "       'TRAVERSE', 'WABASHA', 'WADENA', 'WASECA', 'WASHINGTON',\n",
              "       'WATONWAN', 'WILKIN', 'WINONA', 'WRIGHT', 'YELLOW MEDICINE'],\n",
              "      dtype=object)"
            ]
          },
          "metadata": {
            "tags": []
          },
          "execution_count": 39
        }
      ]
    },
    {
      "metadata": {
        "id": "U0T8VRJBKJxo",
        "colab_type": "text"
      },
      "cell_type": "markdown",
      "source": [
        "## Estimates of county radon levels for the unpooled model"
      ]
    },
    {
      "metadata": {
        "id": "9uVjwKqQJ9g4",
        "colab_type": "code",
        "colab": {}
      },
      "cell_type": "code",
      "source": [
        "with Model() as unpooled_model:\n",
        "\n",
        "    beta0 = Normal('beta0', 0, sd=1e5, shape=counties)\n",
        "    beta1 = Normal('beta1', 0, sd=1e5)\n",
        "    sigma = HalfCauchy('sigma', 5)\n",
        "\n",
        "    theta = beta0[county] + beta1*floor\n",
        "\n",
        "    y = Normal('y', theta, sd=sigma, observed=log_radon)"
      ],
      "execution_count": 0,
      "outputs": []
    },
    {
      "metadata": {
        "id": "5aj2syA9KQ6X",
        "colab_type": "code",
        "colab": {
          "base_uri": "https://localhost:8080/",
          "height": 214
        },
        "outputId": "78aa5230-e4fd-454e-c743-e9dd1d3b7ec7"
      },
      "cell_type": "code",
      "source": [
        "with unpooled_model:\n",
        "    unpooled_trace = sample(1000, n_init=50000, tune=1000)"
      ],
      "execution_count": 36,
      "outputs": [
        {
          "output_type": "stream",
          "text": [
            "Auto-assigning NUTS sampler...\n",
            "Initializing NUTS using jitter+adapt_diag...\n",
            "Sequential sampling (2 chains in 1 job)\n",
            "NUTS: [sigma, beta1, beta0]\n",
            "100%|██████████| 2000/2000 [00:05<00:00, 345.25it/s]\n",
            "100%|██████████| 2000/2000 [00:04<00:00, 469.61it/s]\n",
            "/usr/local/lib/python3.6/dist-packages/scipy/signal/signaltools.py:375: FutureWarning: Conversion of the second argument of issubdtype from `complex` to `np.complexfloating` is deprecated. In future, it will be treated as `np.complex128 == np.dtype(complex).type`.\n",
            "  complex_result = (np.issubdtype(in1.dtype, complex) or\n",
            "/usr/local/lib/python3.6/dist-packages/scipy/signal/signaltools.py:376: FutureWarning: Conversion of the second argument of issubdtype from `complex` to `np.complexfloating` is deprecated. In future, it will be treated as `np.complex128 == np.dtype(complex).type`.\n",
            "  np.issubdtype(in2.dtype, complex))\n"
          ],
          "name": "stderr"
        }
      ]
    },
    {
      "metadata": {
        "id": "B3JG6WiEKTMY",
        "colab_type": "code",
        "colab": {
          "base_uri": "https://localhost:8080/",
          "height": 920
        },
        "outputId": "910a0ce2-c24f-4e66-e3b1-f96e8e8ac8c1"
      },
      "cell_type": "code",
      "source": [
        "from pymc3 import forestplot\n",
        "\n",
        "plt.figure(figsize=(6,14))\n",
        "forestplot(unpooled_trace, varnames=['beta0']);"
      ],
      "execution_count": 40,
      "outputs": [
        {
          "output_type": "display_data",
          "data": {
            "image/png": "[encoded data removed]",
            "text/plain": [
              "<matplotlib.figure.Figure at 0x7f17f210ada0>"
            ]
          },
          "metadata": {
            "tags": []
          }
        }
      ]
    },
    {
      "metadata": {
        "id": "TGg5vRGtKkw4",
        "colab_type": "code",
        "colab": {
          "base_uri": "https://localhost:8080/",
          "height": 34
        },
        "outputId": "c685f759-934c-42f8-cbc0-74b00eeb9bd2"
      },
      "cell_type": "code",
      "source": [
        "unpooled_estimates = pd.Series(unpooled_trace['beta0'].mean(axis=0), index=mn_counties)\n",
        "unpooled_trace['beta0'].shape"
      ],
      "execution_count": 47,
      "outputs": [
        {
          "output_type": "execute_result",
          "data": {
            "text/plain": [
              "(2000, 85)"
            ]
          },
          "metadata": {
            "tags": []
          },
          "execution_count": 47
        }
      ]
    },
    {
      "metadata": {
        "id": "NfnhaPmwKo9I",
        "colab_type": "code",
        "colab": {}
      },
      "cell_type": "code",
      "source": [
        "unpooled_se = pd.Series(unpooled_trace['beta0'].std(axis=0), index=mn_counties)"
      ],
      "execution_count": 0,
      "outputs": []
    },
    {
      "metadata": {
        "id": "TBNAsyElLA22",
        "colab_type": "code",
        "colab": {
          "base_uri": "https://localhost:8080/",
          "height": 283
        },
        "outputId": "fb429ef2-b57b-4463-9e44-5fae2b8e735e"
      },
      "cell_type": "code",
      "source": [
        "order = unpooled_estimates.sort_values().index\n",
        "print(order)"
      ],
      "execution_count": 49,
      "outputs": [
        {
          "output_type": "stream",
          "text": [
            "Index(['LAKE', 'WASECA', 'COOK', 'FARIBAULT', 'PINE', 'KOOCHICHING', 'AITKIN',\n",
            "       'ST LOUIS', 'ANOKA', 'ITASCA', 'MILLE LACS', 'SWIFT', 'CARLTON',\n",
            "       'CHISAGO', 'ISANTI', 'MARTIN', 'SHERBURNE', 'CROW WING', 'MORRISON',\n",
            "       'PENNINGTON', 'RAMSEY', 'YELLOW MEDICINE', 'MEEKER', 'COTTONWOOD',\n",
            "       'KANABEC', 'HUBBARD', 'SIBLEY', 'NORMAN', 'POPE', 'WADENA', 'MCLEOD',\n",
            "       'ROCK', 'OLMSTED', 'WASHINGTON', 'CLEARWATER', 'DAKOTA', 'HENNEPIN',\n",
            "       'MAHNOMEN', 'CASS', 'FILLMORE', 'BENTON', 'STEARNS', 'BIG STONE',\n",
            "       'BECKER', 'CARVER', 'BELTRAMI', 'KITTSON', 'STEELE', 'OTTER TAIL',\n",
            "       'MARSHALL', 'WINONA', 'WRIGHT', 'ROSEAU', 'RENVILLE', 'MOWER', 'TODD',\n",
            "       'POLK', 'CHIPPEWA', 'DOUGLAS', 'LE SUEUR', 'HOUSTON', 'DODGE',\n",
            "       'STEVENS', 'SCOTT', 'WABASHA', 'RICE', 'LAKE OF THE WOODS', 'PIPESTONE',\n",
            "       'NOBLES', 'GOODHUE', 'LYON', 'REDWOOD', 'BROWN', 'CLAY', 'BLUE EARTH',\n",
            "       'TRAVERSE', 'JACKSON', 'KANDIYOHI', 'FREEBORN', 'NICOLLET', 'WILKIN',\n",
            "       'LINCOLN', 'MURRAY', 'WATONWAN', 'LAC QUI PARLE'],\n",
            "      dtype='object')\n"
          ],
          "name": "stdout"
        }
      ]
    },
    {
      "metadata": {
        "id": "Po1b6JyxLFEo",
        "colab_type": "code",
        "colab": {
          "base_uri": "https://localhost:8080/",
          "height": 364
        },
        "outputId": "05539b93-2fce-4f7e-a1ed-d81271147736"
      },
      "cell_type": "code",
      "source": [
        "plt.scatter(range(len(unpooled_estimates)), unpooled_estimates[order])\n",
        "for i, m, se in zip(range(len(unpooled_estimates)), unpooled_estimates[order], unpooled_se[order]):\n",
        "    plt.plot([i,i], [m-se, m+se], 'b-')\n",
        "plt.xlim(-1,86); plt.ylim(-1,4)\n",
        "plt.ylabel('Radon estimate');plt.xlabel('Ordered county');"
      ],
      "execution_count": 50,
      "outputs": [
        {
          "output_type": "display_data",
          "data": {
            "image/png": "[encoded data removed]",
            "text/plain": [
              "<matplotlib.figure.Figure at 0x7f17f2963dd8>"
            ]
          },
          "metadata": {
            "tags": []
          }
        }
      ]
    },
    {
      "metadata": {
        "id": "V0n-oDaULdwH",
        "colab_type": "text"
      },
      "cell_type": "markdown",
      "source": [
        "Here are visual comparisons between the pooled and unpooled estimates for a subset of counties representing a range of sample sizes.\n",
        "\n"
      ]
    },
    {
      "metadata": {
        "id": "UkMRwZwrLI3n",
        "colab_type": "code",
        "colab": {
          "base_uri": "https://localhost:8080/",
          "height": 388
        },
        "outputId": "279523d9-2ffc-4620-dfca-298e293c5203"
      },
      "cell_type": "code",
      "source": [
        "sample_counties = ('LAC QUI PARLE', 'AITKIN', 'KOOCHICHING',\n",
        "                    'DOUGLAS', 'CLAY', 'STEARNS', 'RAMSEY', 'ST LOUIS')\n",
        "\n",
        "sample_counties = ('LAC QUI PARLE', 'AITKIN', 'KOOCHICHING',\n",
        "                    'DOUGLAS', 'CLAY', 'STEARNS', 'RAMSEY', 'ST LOUIS')\n",
        "\n",
        "fig, axes = plt.subplots(2, 4, figsize=(12, 6), sharey=True, sharex=True)\n",
        "axes = axes.ravel()\n",
        "m = unpooled_trace['beta1'].mean()\n",
        "for i,c in enumerate(sample_counties):\n",
        "    y = srrs_mn.log_radon[srrs_mn.county==c]\n",
        "    x = srrs_mn.floor[srrs_mn.county==c]\n",
        "    axes[i].scatter(x + np.random.randn(len(x))*0.01, y, alpha=0.4)\n",
        "\n",
        "    # No pooling model\n",
        "    b = unpooled_estimates[c]\n",
        "\n",
        "    # Plot both models and data\n",
        "    xvals = np.linspace(-0.2, 1.2)\n",
        "    axes[i].plot(xvals, m*xvals+b)  ## unpooled\n",
        "    axes[i].plot(xvals, m0*xvals+b0, 'r--') ## pool\n",
        "    axes[i].set_xticks([0,1])\n",
        "    axes[i].set_xticklabels(['basement', 'floor'])\n",
        "    axes[i].set_ylim(-1, 3)\n",
        "    axes[i].set_title(c)\n",
        "    if not i%2:\n",
        "        axes[i].set_ylabel('log radon level')"
      ],
      "execution_count": 51,
      "outputs": [
        {
          "output_type": "display_data",
          "data": {
            "image/png": "[encoded data removed]",
            "text/plain": [
              "<matplotlib.figure.Figure at 0x7f17efa143c8>"
            ]
          },
          "metadata": {
            "tags": []
          }
        }
      ]
    },
    {
      "metadata": {
        "id": "yXPuhoEAMBE-",
        "colab_type": "text"
      },
      "cell_type": "markdown",
      "source": [
        "if we are trying to identify high-radon counties, pooling is useless  \n",
        "\n",
        "we do not trust extreme unpooled estimates produced by models using few observations  \n"
      ]
    },
    {
      "metadata": {
        "id": "XcEgsrYgLclG",
        "colab_type": "code",
        "colab": {}
      },
      "cell_type": "code",
      "source": [
        ""
      ],
      "execution_count": 0,
      "outputs": []
    }
  ]
}