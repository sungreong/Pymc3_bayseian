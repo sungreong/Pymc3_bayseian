{
  "nbformat": 4,
  "nbformat_minor": 0,
  "metadata": {
    "colab": {
      "name": "Sampler Statistics.ipynb",
      "version": "0.3.2",
      "provenance": [],
      "collapsed_sections": []
    },
    "kernelspec": {
      "name": "python3",
      "display_name": "Python 3"
    },
    "accelerator": "GPU"
  },
  "cells": [
    {
      "cell_type": "markdown",
      "metadata": {
        "id": "view-in-github",
        "colab_type": "text"
      },
      "source": [
        "[View in Colaboratory](https://colab.research.google.com/github/sungreong/Pymc3_bayseian/blob/master/Sampler_Statistics.ipynb)"
      ]
    },
    {
      "metadata": {
        "id": "nmAhIchb5X8i",
        "colab_type": "text"
      },
      "cell_type": "markdown",
      "source": [
        "When checking for convergence or when debugging a badly behaving sampler,   \n",
        "it is often helpful to take a closer look at what the sampler is doing.    \n",
        "For this purpose some samplers export statistics for each generated sample.\n",
        "\n",
        "## https://docs.pymc.io/notebooks/sampler-stats.html"
      ]
    },
    {
      "metadata": {
        "id": "h9R-Vf0XvrmQ",
        "colab_type": "code",
        "colab": {}
      },
      "cell_type": "code",
      "source": [
        "!pip install git+https://github.com/pymc-devs/pymc3\n",
        "!pip install patsy pandas"
      ],
      "execution_count": 0,
      "outputs": []
    },
    {
      "metadata": {
        "id": "0uVOP-omvsLW",
        "colab_type": "code",
        "colab": {}
      },
      "cell_type": "code",
      "source": [
        "import numpy as np\n",
        "import matplotlib.pyplot as plt\n",
        "import seaborn as sb\n",
        "import pandas as pd\n",
        "import pymc3 as pm\n",
        "\n",
        "%matplotlib inline"
      ],
      "execution_count": 0,
      "outputs": []
    },
    {
      "metadata": {
        "id": "7-Ot2u5BwAKn",
        "colab_type": "code",
        "colab": {}
      },
      "cell_type": "code",
      "source": [
        "model = pm.Model()\n",
        "with model : \n",
        "    mu1 = pm.Normal(\"mu1\", mu=0, sd=1 ,shape=10)"
      ],
      "execution_count": 0,
      "outputs": []
    },
    {
      "metadata": {
        "id": "WESl4YDrwLIa",
        "colab_type": "code",
        "colab": {
          "base_uri": "https://localhost:8080/",
          "height": 163
        },
        "outputId": "0345db6a-4c99-47ae-ea46-5476341bb0a1"
      },
      "cell_type": "code",
      "source": [
        "with model : \n",
        "    step = pm.NUTS()\n",
        "    trace = pm.sample(2000, tune=1000, init=None, step=step, cores=2)"
      ],
      "execution_count": 8,
      "outputs": [
        {
          "output_type": "stream",
          "text": [
            "Multiprocess sampling (2 chains in 2 jobs)\n",
            "NUTS: [mu1]\n",
            "100%|██████████| 3000/3000 [00:06<00:00, 449.31it/s]\n",
            "/usr/local/lib/python3.6/dist-packages/scipy/signal/signaltools.py:375: FutureWarning: Conversion of the second argument of issubdtype from `complex` to `np.complexfloating` is deprecated. In future, it will be treated as `np.complex128 == np.dtype(complex).type`.\n",
            "  complex_result = (np.issubdtype(in1.dtype, complex) or\n",
            "/usr/local/lib/python3.6/dist-packages/scipy/signal/signaltools.py:376: FutureWarning: Conversion of the second argument of issubdtype from `complex` to `np.complexfloating` is deprecated. In future, it will be treated as `np.complex128 == np.dtype(complex).type`.\n",
            "  np.issubdtype(in2.dtype, complex))\n"
          ],
          "name": "stderr"
        }
      ]
    },
    {
      "metadata": {
        "id": "vfmzv2N4wWji",
        "colab_type": "code",
        "colab": {
          "base_uri": "https://localhost:8080/",
          "height": 197
        },
        "outputId": "ed3b407c-0d64-4f41-f8fb-aed1ebf20d82"
      },
      "cell_type": "code",
      "source": [
        "trace.stat_names"
      ],
      "execution_count": 6,
      "outputs": [
        {
          "output_type": "execute_result",
          "data": {
            "text/plain": [
              "{'depth',\n",
              " 'diverging',\n",
              " 'energy',\n",
              " 'energy_error',\n",
              " 'max_energy_error',\n",
              " 'mean_tree_accept',\n",
              " 'step_size',\n",
              " 'step_size_bar',\n",
              " 'tree_size',\n",
              " 'tune'}"
            ]
          },
          "metadata": {
            "tags": []
          },
          "execution_count": 6
        }
      ]
    },
    {
      "metadata": {
        "id": "P7PiVD-ywhFC",
        "colab_type": "text"
      },
      "cell_type": "markdown",
      "source": [
        "* mean_tree_accept :  이 샘플을 생성 한 트리에 대한 평균 허용 확률   \n",
        "                   The mean of these values across all samples but the burn-in should be approximately    \n",
        "*  target_accept (the default for this is 0.8).\n",
        "* diverging :  샘플에 대한 궤적이 발산하는지 여부.  만약에 많은 샘플이 발산하면, 보통 사후분포의 높은 곡률을 가진다.\n",
        "*  재파리미터화는 종종 도와준다. 그러나 너는 0.9 0.95 같은 target_accept 증가시키기 위해 노력하다.\n",
        "* energy  :  문제가있는 긴 꼬리가있는 후방을 식별하는 데 사용할 수 있습니다. \n",
        "* energy_error : 궤적의 시작과 끝 사이의 에너지의 차이\n",
        "* tree_size :  샘플이 수락되었을 때 샘플링 트리의 잎 수 $ 2^{depth} $ 보다 적게 된다. \n",
        "> 만약 사이즈가 크다면 다음 샘플을 찾기 위하여 leapfrog steps 을 많이 사용해야 한다.  \n",
        "> 사후분포 강한 상관관계를 갖는다면,  후부가 긴 꼬리가 있거나 높은 곡률의 영역 ( \"깔때기\")이 있거나 질량 행렬의 분산 추정치가 부정확하다.  \n",
        "> Reparametrisation of the model or estimating the posterior variances from past samples might help.\n",
        "* tune :  True  만약 step size \n",
        "* depth : The depth of the tree that was used to generate this sample\n",
        "* tree_size : The number of leafs of the sampling tree, when the sample was accepted. This is usually a bit less than  $ 2^{depth} $\n",
        "* step_size: The step size used for this sample.\n",
        "* step_size_bar: The current best known step-size. After the tuning samples, the step size is set to this value. This should converge during tuning."
      ]
    },
    {
      "metadata": {
        "id": "GGBhYHW-wglE",
        "colab_type": "code",
        "colab": {
          "base_uri": "https://localhost:8080/",
          "height": 283
        },
        "outputId": "275cb420-e681-4205-e063-125a6461d81c"
      },
      "cell_type": "code",
      "source": [
        "plt.plot(trace[\"step_size_bar\"])"
      ],
      "execution_count": 9,
      "outputs": [
        {
          "output_type": "execute_result",
          "data": {
            "text/plain": [
              "[<matplotlib.lines.Line2D at 0x7f275eb3e860>]"
            ]
          },
          "metadata": {
            "tags": []
          },
          "execution_count": 9
        },
        {
          "output_type": "display_data",
          "data": {
            "image/png": "[encoded data removed]",
            "text/plain": [
              "<matplotlib.figure.Figure at 0x7f275a468c50>"
            ]
          },
          "metadata": {
            "tags": []
          }
        }
      ]
    },
    {
      "metadata": {
        "id": "wmnF8blLwWnL",
        "colab_type": "code",
        "colab": {
          "base_uri": "https://localhost:8080/",
          "height": 283
        },
        "outputId": "3f06f26a-0533-4b10-9c2c-1dcc5b304f58"
      },
      "cell_type": "code",
      "source": [
        "sizes1, sizes2 = trace.get_sampler_stats(\"depth\", combine=False)\n",
        "fig, (ax1, ax2) = plt.subplots(2, 1, sharex=True, sharey=True)\n",
        "ax1.plot(sizes1)\n",
        "ax2.plot(sizes2)"
      ],
      "execution_count": 10,
      "outputs": [
        {
          "output_type": "execute_result",
          "data": {
            "text/plain": [
              "[<matplotlib.lines.Line2D at 0x7f275a2d4ac8>]"
            ]
          },
          "metadata": {
            "tags": []
          },
          "execution_count": 10
        },
        {
          "output_type": "display_data",
          "data": {
            "image/png": "[encoded data removed]",
            "text/plain": [
              "<matplotlib.figure.Figure at 0x7f275e23e8d0>"
            ]
          },
          "metadata": {
            "tags": []
          }
        }
      ]
    },
    {
      "metadata": {
        "id": "rqZRCnpiwWqy",
        "colab_type": "code",
        "colab": {
          "base_uri": "https://localhost:8080/",
          "height": 283
        },
        "outputId": "d8e46e19-2b15-4566-d289-3489254b44aa"
      },
      "cell_type": "code",
      "source": [
        "accept = trace.get_sampler_stats(\"mean_tree_accept\", burn=1000)\n",
        "sb.distplot(accept, kde=False)"
      ],
      "execution_count": 13,
      "outputs": [
        {
          "output_type": "execute_result",
          "data": {
            "text/plain": [
              "<matplotlib.axes._subplots.AxesSubplot at 0x7f27610f46a0>"
            ]
          },
          "metadata": {
            "tags": []
          },
          "execution_count": 13
        },
        {
          "output_type": "display_data",
          "data": {
            "image/png": "[encoded data removed]",
            "text/plain": [
              "<matplotlib.figure.Figure at 0x7f278c53a860>"
            ]
          },
          "metadata": {
            "tags": []
          }
        }
      ]
    },
    {
      "metadata": {
        "id": "r5dG7lbRwWxb",
        "colab_type": "code",
        "colab": {
          "base_uri": "https://localhost:8080/",
          "height": 35
        },
        "outputId": "31908c1c-c801-4762-8430-c5c5bf789c1e"
      },
      "cell_type": "code",
      "source": [
        "accept.mean()"
      ],
      "execution_count": 14,
      "outputs": [
        {
          "output_type": "execute_result",
          "data": {
            "text/plain": [
              "0.8093042004910851"
            ]
          },
          "metadata": {
            "tags": []
          },
          "execution_count": 14
        }
      ]
    },
    {
      "metadata": {
        "id": "aPsXHKYkwW09",
        "colab_type": "code",
        "colab": {
          "base_uri": "https://localhost:8080/",
          "height": 35
        },
        "outputId": "1a8764cf-9ef3-4ec3-8bb7-53ebf8d9a670"
      },
      "cell_type": "code",
      "source": [
        "trace[\"diverging\"].nonzero()"
      ],
      "execution_count": 15,
      "outputs": [
        {
          "output_type": "execute_result",
          "data": {
            "text/plain": [
              "(array([], dtype=int64),)"
            ]
          },
          "metadata": {
            "tags": []
          },
          "execution_count": 15
        }
      ]
    },
    {
      "metadata": {
        "id": "sXloZYZc2MbH",
        "colab_type": "text"
      },
      "cell_type": "markdown",
      "source": [
        "전체적인 에너지 레벨와 연속 샘플들 사이에 에너지 변화를 비교 하는데 유용하다. "
      ]
    },
    {
      "metadata": {
        "id": "mQG2fADrwW4T",
        "colab_type": "code",
        "colab": {
          "base_uri": "https://localhost:8080/",
          "height": 286
        },
        "outputId": "f7d3d9f0-a2c8-49bf-bf27-73908c43d4e6"
      },
      "cell_type": "code",
      "source": [
        "energy = trace[\"energy\"]\n",
        "energy_diff = np.diff(energy)\n",
        "sb.distplot(energy - energy.mean(), label=\"energy\")\n",
        "sb.distplot(energy_diff , label=\"energy diff\")\n",
        "plt.legend()\n",
        "\n",
        "## 전체적인 에너지 레벨의 분포가 긴 꼬리를 가지고 있다면  샘플러의 효율성은 매우 빨리 악화 될 것이다."
      ],
      "execution_count": 17,
      "outputs": [
        {
          "output_type": "execute_result",
          "data": {
            "text/plain": [
              "<matplotlib.legend.Legend at 0x7f275a0420b8>"
            ]
          },
          "metadata": {
            "tags": []
          },
          "execution_count": 17
        },
        {
          "output_type": "display_data",
          "data": {
            "image/png": "[encoded data removed]",
            "text/plain": [
              "<matplotlib.figure.Figure at 0x7f275a2676a0>"
            ]
          },
          "metadata": {
            "tags": []
          }
        }
      ]
    },
    {
      "metadata": {
        "id": "Oy5CQWaL3TjN",
        "colab_type": "text"
      },
      "cell_type": "markdown",
      "source": [
        "## Multiple samplers\n",
        "\n",
        "만약 다중의 샘플러는 같은 모델에 사용됩니다(연속과 이산형 변수) \n",
        "노출 된 값은 새로운 축에 따라서 쌓이거나 합쳐진다."
      ]
    },
    {
      "metadata": {
        "id": "pekW4-amwW7i",
        "colab_type": "code",
        "colab": {}
      },
      "cell_type": "code",
      "source": [
        "model = pm.Model()\n",
        "with model :\n",
        "    mu1 = pm.Bernoulli(\"mu1\", p=0.8)\n",
        "    mu2 = pm.Normal(\"mu2\", mu=0, sd=1, shape=10)\n"
      ],
      "execution_count": 0,
      "outputs": []
    },
    {
      "metadata": {
        "id": "2zBjMLIhwW_E",
        "colab_type": "code",
        "colab": {
          "base_uri": "https://localhost:8080/",
          "height": 217
        },
        "outputId": "3cb021b7-7488-4ae2-b4d4-ff168c6d0f53"
      },
      "cell_type": "code",
      "source": [
        "with model:\n",
        "    step1 = pm.BinaryMetropolis([mu1])\n",
        "    step2 = pm.Metropolis([mu2])\n",
        "    trace = pm.sample(10000, init=None, step=[step1, step2], cores=2, tune=1000)"
      ],
      "execution_count": 21,
      "outputs": [
        {
          "output_type": "stream",
          "text": [
            "Multiprocess sampling (2 chains in 2 jobs)\n",
            "CompoundStep\n",
            ">BinaryMetropolis: [mu1]\n",
            ">Metropolis: [mu2]\n",
            "100%|██████████| 11000/11000 [00:05<00:00, 1936.18it/s]\n",
            "/usr/local/lib/python3.6/dist-packages/scipy/signal/signaltools.py:375: FutureWarning: Conversion of the second argument of issubdtype from `complex` to `np.complexfloating` is deprecated. In future, it will be treated as `np.complex128 == np.dtype(complex).type`.\n",
            "  complex_result = (np.issubdtype(in1.dtype, complex) or\n",
            "/usr/local/lib/python3.6/dist-packages/scipy/signal/signaltools.py:376: FutureWarning: Conversion of the second argument of issubdtype from `complex` to `np.complexfloating` is deprecated. In future, it will be treated as `np.complex128 == np.dtype(complex).type`.\n",
            "  np.issubdtype(in2.dtype, complex))\n",
            "The number of effective samples is smaller than 10% for some parameters.\n"
          ],
          "name": "stderr"
        }
      ]
    },
    {
      "metadata": {
        "id": "bJ5k0so8wXCs",
        "colab_type": "code",
        "colab": {
          "base_uri": "https://localhost:8080/",
          "height": 35
        },
        "outputId": "25420158-8e41-434c-8767-5bc26369aad1"
      },
      "cell_type": "code",
      "source": [
        "trace.stat_names"
      ],
      "execution_count": 22,
      "outputs": [
        {
          "output_type": "execute_result",
          "data": {
            "text/plain": [
              "{'accept', 'p_jump', 'tune'}"
            ]
          },
          "metadata": {
            "tags": []
          },
          "execution_count": 22
        }
      ]
    },
    {
      "metadata": {
        "id": "XGckNSva4wEr",
        "colab_type": "text"
      },
      "cell_type": "markdown",
      "source": [
        "Both samplers export accept, 그래서 우리는 각각의 샘플러 기각 확률을 얻는다.\n"
      ]
    },
    {
      "metadata": {
        "id": "19h4kZZ_wXGm",
        "colab_type": "code",
        "colab": {
          "base_uri": "https://localhost:8080/",
          "height": 143
        },
        "outputId": "88e9fcec-9d99-4cb3-c8f6-00968700d523"
      },
      "cell_type": "code",
      "source": [
        "trace.get_sampler_stats(\"accept\")"
      ],
      "execution_count": 24,
      "outputs": [
        {
          "output_type": "execute_result",
          "data": {
            "text/plain": [
              "array([[0.25      , 0.22052446],\n",
              "       [4.        , 0.18274962],\n",
              "       [0.25      , 0.00478342],\n",
              "       ...,\n",
              "       [0.25      , 0.1997898 ],\n",
              "       [0.25      , 0.05908989],\n",
              "       [1.        , 0.58121953]])"
            ]
          },
          "metadata": {
            "tags": []
          },
          "execution_count": 24
        }
      ]
    },
    {
      "metadata": {
        "id": "FJ0xeUkgwXKS",
        "colab_type": "code",
        "colab": {
          "base_uri": "https://localhost:8080/",
          "height": 35
        },
        "outputId": "5bf91c1c-9b48-4b9d-ccff-d4d950035a17"
      },
      "cell_type": "code",
      "source": [
        "trace.get_sampler_stats('p_jump')"
      ],
      "execution_count": 25,
      "outputs": [
        {
          "output_type": "execute_result",
          "data": {
            "text/plain": [
              "array([0.5, 0.5, 0.5, ..., 0.5, 0.5, 0.5])"
            ]
          },
          "metadata": {
            "tags": []
          },
          "execution_count": 25
        }
      ]
    },
    {
      "metadata": {
        "id": "NN6K_KbfwXQY",
        "colab_type": "code",
        "colab": {
          "base_uri": "https://localhost:8080/",
          "height": 143
        },
        "outputId": "212120c5-ca37-4b87-f615-c0a07281b4c0"
      },
      "cell_type": "code",
      "source": [
        "trace.get_sampler_stats('tune')"
      ],
      "execution_count": 26,
      "outputs": [
        {
          "output_type": "execute_result",
          "data": {
            "text/plain": [
              "array([[False, False],\n",
              "       [False, False],\n",
              "       [False, False],\n",
              "       ...,\n",
              "       [False, False],\n",
              "       [False, False],\n",
              "       [False, False]])"
            ]
          },
          "metadata": {
            "tags": []
          },
          "execution_count": 26
        }
      ]
    },
    {
      "metadata": {
        "id": "_eMsaga9wXVN",
        "colab_type": "code",
        "colab": {}
      },
      "cell_type": "code",
      "source": [
        ""
      ],
      "execution_count": 0,
      "outputs": []
    },
    {
      "metadata": {
        "id": "9_8AMuEowXdi",
        "colab_type": "code",
        "colab": {}
      },
      "cell_type": "code",
      "source": [
        ""
      ],
      "execution_count": 0,
      "outputs": []
    },
    {
      "metadata": {
        "id": "CbhQKFaHwWwi",
        "colab_type": "code",
        "colab": {}
      },
      "cell_type": "code",
      "source": [
        ""
      ],
      "execution_count": 0,
      "outputs": []
    },
    {
      "metadata": {
        "id": "iwopTd8cwUcj",
        "colab_type": "code",
        "colab": {}
      },
      "cell_type": "code",
      "source": [
        ""
      ],
      "execution_count": 0,
      "outputs": []
    }
  ]
}