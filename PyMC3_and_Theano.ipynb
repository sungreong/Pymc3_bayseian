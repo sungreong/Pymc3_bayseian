{
  "nbformat": 4,
  "nbformat_minor": 0,
  "metadata": {
    "colab": {
      "name": "PyMC3 and Theano",
      "version": "0.3.2",
      "provenance": [],
      "collapsed_sections": []
    },
    "kernelspec": {
      "name": "python3",
      "display_name": "Python 3"
    },
    "accelerator": "GPU"
  },
  "cells": [
    {
      "cell_type": "markdown",
      "metadata": {
        "id": "view-in-github",
        "colab_type": "text"
      },
      "source": [
        "[View in Colaboratory](https://colab.research.google.com/github/sungreong/Pymc3_bayseian/blob/master/PyMC3_and_Theano.ipynb)"
      ]
    },
    {
      "metadata": {
        "id": "lSbDJldsEoOu",
        "colab_type": "code",
        "colab": {
          "base_uri": "https://localhost:8080/",
          "height": 496
        },
        "outputId": "614f0f3a-93d7-435e-cb80-e249a619e5e2"
      },
      "cell_type": "code",
      "source": [
        "!pip install git+https://github.com/pymc-devs/pymc3"
      ],
      "execution_count": 4,
      "outputs": [
        {
          "output_type": "stream",
          "text": [
            "Collecting git+https://github.com/pymc-devs/pymc3\r\n",
            "  Cloning https://github.com/pymc-devs/pymc3 to /tmp/pip-req-build-nozzy28v\n",
            "Collecting theano>=1.0.0 (from pymc3==3.4.1)\n",
            "\u001b[?25l  Downloading https://files.pythonhosted.org/packages/62/da/ab486aae8e538d8ae91fa0e6ab26d3a454d7c5c7a66541f40300e58a3314/Theano-1.0.1.tar.gz (2.8MB)\n",
            "\u001b[K    100% |████████████████████████████████| 2.8MB 9.0MB/s \n",
            "\u001b[?25hRequirement already satisfied: numpy>=1.13.0 in /usr/local/lib/python3.6/dist-packages (from pymc3==3.4.1) (1.14.3)\n",
            "Requirement already satisfied: pandas>=0.18.0 in /usr/local/lib/python3.6/dist-packages (from pymc3==3.4.1) (0.22.0)\n",
            "Requirement already satisfied: patsy>=0.4.0 in /usr/local/lib/python3.6/dist-packages (from pymc3==3.4.1) (0.5.0)\n",
            "Collecting joblib>=0.9 (from pymc3==3.4.1)\n",
            "\u001b[?25l  Downloading https://files.pythonhosted.org/packages/4f/51/870b2ec270fc29c5d89f85353da420606a9cb39fba4747127e7c7d7eb25d/joblib-0.11-py2.py3-none-any.whl (176kB)\n",
            "\u001b[K    100% |████████████████████████████████| 184kB 14.2MB/s \n",
            "\u001b[?25hCollecting tqdm>=4.8.4 (from pymc3==3.4.1)\n",
            "\u001b[?25l  Downloading https://files.pythonhosted.org/packages/d8/ca/6524dfba7a0e850d3fda223693779035ddc8bf5c242acd9ee4eb9e52711a/tqdm-4.23.3-py2.py3-none-any.whl (42kB)\n",
            "\u001b[K    100% |████████████████████████████████| 51kB 18.8MB/s \n",
            "\u001b[?25hRequirement already satisfied: six>=1.10.0 in /usr/local/lib/python3.6/dist-packages (from pymc3==3.4.1) (1.11.0)\n",
            "Requirement already satisfied: h5py>=2.7.0 in /usr/local/lib/python3.6/dist-packages (from pymc3==3.4.1) (2.7.1)\n",
            "Requirement already satisfied: scipy>=0.14 in /usr/local/lib/python3.6/dist-packages (from theano>=1.0.0->pymc3==3.4.1) (0.19.1)\n",
            "Requirement already satisfied: python-dateutil>=2 in /usr/local/lib/python3.6/dist-packages (from pandas>=0.18.0->pymc3==3.4.1) (2.5.3)\n",
            "Requirement already satisfied: pytz>=2011k in /usr/local/lib/python3.6/dist-packages (from pandas>=0.18.0->pymc3==3.4.1) (2018.4)\n",
            "Building wheels for collected packages: pymc3, theano\n",
            "  Running setup.py bdist_wheel for pymc3 ... \u001b[?25l-\b \b\\\b \b|\b \b/\b \b-\b \bdone\n",
            "\u001b[?25h  Stored in directory: /tmp/pip-ephem-wheel-cache-c3rkmqzf/wheels/a1/e3/71/a696f2af0dd40bccc0ce672d616d21cc9dd90dbdd3f03242f4\n",
            "  Running setup.py bdist_wheel for theano ... \u001b[?25l-\b \b\\\b \b|\b \b/\b \b-\b \b\\\b \b|\b \b/\b \bdone\n",
            "\u001b[?25h  Stored in directory: /content/.cache/pip/wheels/a7/8a/6c/aad33a6144dc30cc65d437c444090076136d2c0f289f3ce183\n",
            "Successfully built pymc3 theano\n",
            "Installing collected packages: theano, joblib, tqdm, pymc3\n",
            "Successfully installed joblib-0.11 pymc3-3.4.1 theano-1.0.1 tqdm-4.23.3\n"
          ],
          "name": "stdout"
        }
      ]
    },
    {
      "metadata": {
        "id": "yFdWSx2IEpR0",
        "colab_type": "text"
      },
      "cell_type": "markdown",
      "source": [
        "## Reference  : https://docs.pymc.io/theano.html\n",
        "\n",
        "---\n",
        "\n"
      ]
    },
    {
      "metadata": {
        "id": "0izwnn5wEvVi",
        "colab_type": "text"
      },
      "cell_type": "markdown",
      "source": [
        "배열 연산과 선형 대수학을 포함하는 함수를 정의할 때 **Theano**를 사용한다.   \n",
        "우리가 pymc3 모델에서 정의할 때 상수 요인에 사후 확률 밀도에서 우리의 파라미터 공안으로부터 theano function을 만든다.  \n",
        "우리는 그때 이 함수의 심볼 조작을 gradient 접근으로 사용할 것이다.  \n",
        "theano에 대해서 구체적인 지식은 필요없다.  \n",
        "그러나 간단하게 어떻게 작동하는지는 알아보자 \n",
        "\n",
        "$ f:R×R^n×N^n→R  \\\\\n",
        "(a,x,y)↦∑exp(ax_{i}^{3}+y_{i}^{2}). $ "
      ]
    },
    {
      "metadata": {
        "id": "Ors5B3CuEou1",
        "colab_type": "code",
        "colab": {
          "base_uri": "https://localhost:8080/",
          "height": 34
        },
        "outputId": "74aebb08-6288-4bf0-afdc-ac2ee1151fbb"
      },
      "cell_type": "code",
      "source": [
        "import theano\n",
        "import theano.tensor as tt\n",
        "## 인풋 변수의 타입을 구체화 할 필요는 없다. 그래서 우리는 어떤 특정 것을 지정안하면 float64를 사용 할 것이다.\n",
        "\n",
        "a = tt.scalar(\"a\")\n",
        "x = tt.vector(\"x\")\n",
        "\n",
        "## tt.ivector 은 정수 심볼 벡터를 만든다\n",
        "\n",
        "y= tt.ivector(\"y\")\n",
        "\n"
      ],
      "execution_count": 14,
      "outputs": [
        {
          "output_type": "execute_result",
          "data": {
            "text/plain": [
              "x"
            ]
          },
          "metadata": {
            "tags": []
          },
          "execution_count": 14
        }
      ]
    },
    {
      "metadata": {
        "id": "nJM4uQLUGNgw",
        "colab_type": "code",
        "colab": {}
      },
      "cell_type": "code",
      "source": [
        "## 다음으로 우리는 우리 함수의 출력물의 심볼 표현을 설계하기 위해 변수를 사용 할 것이다. \n",
        "## 여기서 실제로 계산은 없다. 우리는  단지 출력물을 계산하기 위해 필요한 연산만 기록해 논다.\n",
        "\n",
        "inner = a * x**3 + y**2\n",
        "out = tt.exp(inner).sum()\n",
        "\n",
        "## tt.exp 가 신기하게도  np.exp를 사용해도 가능하다. \n",
        "## Theano 변수들은 많은 수의 연산을 할 수 있다. 우리는 여전히 numpy 대신에 theano를 선호한다. \n",
        "## 그것은 더 명백한 연산 대신에 심볼 인풋으로 하는 것이 더 명쾌하다.\n"
      ],
      "execution_count": 0,
      "outputs": []
    },
    {
      "metadata": {
        "id": "8WZ9xPEfGoMg",
        "colab_type": "code",
        "colab": {
          "base_uri": "https://localhost:8080/",
          "height": 34
        },
        "outputId": "936177e4-976c-469a-aec5-580527d90cc5"
      },
      "cell_type": "code",
      "source": [
        "\n",
        "func = theano.function([a, x, y], [out])\n"
      ],
      "execution_count": 16,
      "outputs": [
        {
          "output_type": "execute_result",
          "data": {
            "text/plain": [
              "<theano.compile.function_module.Function at 0x7fa34821e160>"
            ]
          },
          "metadata": {
            "tags": []
          },
          "execution_count": 16
        }
      ]
    },
    {
      "metadata": {
        "id": "Wq4B1DYHHR8-",
        "colab_type": "code",
        "colab": {}
      },
      "cell_type": "code",
      "source": [
        "import numpy as np\n",
        "a_val = 1.2\n",
        "np.random.randn()\n",
        "x_vals = np.random.randn(10).astype(theano.config.floatX)\n",
        "y_vals = np.random.randn(10).astype(theano.config.floatX)\n",
        "\n",
        "out = func(a_val, x_vals, y_vals)"
      ],
      "execution_count": 0,
      "outputs": []
    },
    {
      "metadata": {
        "id": "Arn5HcplHTv5",
        "colab_type": "code",
        "colab": {}
      },
      "cell_type": "code",
      "source": [
        "a = tt.vector('a')\n",
        "\n",
        "## (a > 0).all() isn’t actually a boolean as it would be in NumPy, but still a symbolic variable. \n",
        "\n",
        "if (a > 0).all():\n",
        "    b = tt.sqrt(a)\n",
        "else:\n",
        "    b = -a"
      ],
      "execution_count": 0,
      "outputs": []
    },
    {
      "metadata": {
        "id": "WQJW8lvtI5q0",
        "colab_type": "code",
        "colab": {}
      },
      "cell_type": "code",
      "source": [
        "a = tt.vector('a')\n",
        "b = tt.sqrt(a)\n",
        "\n",
        "a = tt.vector('a')\n",
        "b = tt.switch((a > 0).all(), tt.sqrt(a), -a)"
      ],
      "execution_count": 0,
      "outputs": []
    },
    {
      "metadata": {
        "id": "aLddtK-MI9ut",
        "colab_type": "code",
        "colab": {
          "base_uri": "https://localhost:8080/",
          "height": 34
        },
        "outputId": "739842c0-0c50-4355-fd2d-5e75471d27ca"
      },
      "cell_type": "code",
      "source": [
        "a = tt.vector('a')\n",
        "# Access the 10th element. This will fail when a function build\n",
        "# from this expression is executed with an array that is too short.\n",
        "b = a[10]\n",
        "\n",
        "# Extract a subvector\n",
        "b = a[[1, 2, 10]]\n"
      ],
      "execution_count": 22,
      "outputs": [
        {
          "output_type": "execute_result",
          "data": {
            "text/plain": [
              "AdvancedSubtensor1.0"
            ]
          },
          "metadata": {
            "tags": []
          },
          "execution_count": 22
        }
      ]
    },
    {
      "metadata": {
        "id": "p1TGK7YeI-tT",
        "colab_type": "code",
        "colab": {}
      },
      "cell_type": "code",
      "source": [
        "a = tt.vector('a')\n",
        "b = tt.set_subtensor(a[:10], 1)\n",
        "\n",
        "# is roughly equivalent to this (although theano avoids\n",
        "# the copy if `a` isn't used anymore)\n",
        "a = np.random.randn(10)\n",
        "b = a.copy()\n",
        "b[:10] = 1"
      ],
      "execution_count": 0,
      "outputs": []
    },
    {
      "metadata": {
        "id": "l7___KZ6JQmz",
        "colab_type": "text"
      },
      "cell_type": "markdown",
      "source": [
        "## How PyMC3 uses Theano"
      ]
    },
    {
      "metadata": {
        "id": "P2d0pWOoJHGr",
        "colab_type": "code",
        "colab": {}
      },
      "cell_type": "code",
      "source": [
        "import pymc3 as pm\n",
        "true_mu = 0.1\n",
        "data = true_mu + np.random.randn(50)\n",
        "\n",
        "with pm.Model() as model:\n",
        "    mu = pm.Normal('mu', mu=0, sd=1)\n",
        "    y = pm.Normal('y', mu=mu, sd=1, observed=data)"
      ],
      "execution_count": 0,
      "outputs": []
    },
    {
      "metadata": {
        "id": "N2ABs0MOJaWN",
        "colab_type": "text"
      },
      "cell_type": "markdown",
      "source": [
        "$ mu 와 y $ 를 정의하고  \n",
        "1. 추론하기 원하는 자유변수\n",
        "2. 관측된 데이터\n",
        "3. 함수를 만들기 위해 필요한 posterior sampling \n",
        "\n",
        "$ logP(μ|y)+C=logP(y|μ)+logP(μ)=:logp(μ)  \\\\\n",
        "log(p):R→R \\\\ \n",
        "μ↦logN(μ|0,1)+logN(y|μ,1), $\n",
        "\n",
        "## 우리가 추적해야 할 것 2가지\n",
        "1. The parameter space (the free variables) \n",
        "2. the logp function\n",
        "\n",
        "For each free variable we generate a Theano variable   \n",
        "And for each variable (observed or otherwise) we add a term to the global logp\n",
        "\n",
        "\n",
        "\n",
        "\n",
        "```\n",
        "# For illustration only, those functions don't actually exist\n",
        "# in exactly this way!\n",
        "model = pm.Model()\n",
        "\n",
        "mu = tt.scalar('mu')\n",
        "model.add_free_variable(mu)\n",
        "model.add_logp_term(pm.Normal.dist(0, 1).logp(mu))\n",
        "\n",
        "model.add_logp_term(pm.Normal.dist(mu, 1).logp(data))\n",
        "```\n",
        "\n",
        "## Continuous variables with support only on a subset of the real numbers are treated a bit differently.\n",
        "###  We create a transformed variable that has support on the reals and then modify this variable. For example:\n",
        "\n",
        "```\n",
        "with pm.Model() as model:\n",
        "    mu = pm.Normal('mu', 0, 1)\n",
        "    sd = pm.HalfNormal('sd', 1)\n",
        "    y = pm.Normal('y', mu=mu, sd=sd, observed=data)\n",
        "\n",
        "```\n",
        "##  is roughly equivalent to this:  \n",
        "```\n",
        "# For illustration only, not real code!\n",
        "model = pm.Model()\n",
        "mu = tt.scalar('mu')\n",
        "model.add_free_variable(mu)\n",
        "model.add_logp_term(pm.Normal.dist(0, 1).logp(mu))\n",
        "\n",
        "sd_log__ = tt.scalar('sd_log__')\n",
        "model.add_free_variable(sd_log__)\n",
        "model.add_logp_term(corrected_logp_half_normal(sd_log__))\n",
        "\n",
        "sd = tt.exp(sd_log__)\n",
        "model.add_deterministic_variable(sd)\n",
        "\n",
        "model.add_logp_term(pm.Normal.dist(mu, sd).logp(data))\n",
        "```\n",
        "\n",
        "\n",
        "The return values of the variable constructors are subclasses of theano variables,   \n",
        "so when we define a variable we can use any theano operation on them:\n",
        "\n",
        "\n",
        "```\n",
        "design_matrix = np.array([[...]])\n",
        "with pm.Model() as model:\n",
        "    # beta is a tt.dvector\n",
        "    beta = pm.Normal('beta', 0, 1, shape=len(design_matrix))\n",
        "    predict = tt.dot(design_matrix, beta)\n",
        "    sd = pm.HalfCauchy('sd', beta=2.5)\n",
        "    pm.Normal('y', mu=predict, sd=sd, observed=data)\n",
        "```\n",
        "\n"
      ]
    },
    {
      "metadata": {
        "id": "kb5x3PX5JH-e",
        "colab_type": "code",
        "colab": {}
      },
      "cell_type": "code",
      "source": [
        ""
      ],
      "execution_count": 0,
      "outputs": []
    }
  ]
}