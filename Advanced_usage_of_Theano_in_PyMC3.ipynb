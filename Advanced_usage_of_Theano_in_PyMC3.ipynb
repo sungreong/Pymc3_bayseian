{
  "nbformat": 4,
  "nbformat_minor": 0,
  "metadata": {
    "colab": {
      "name": "Advanced usage of Theano in PyMC3.ipynb",
      "version": "0.3.2",
      "provenance": [],
      "collapsed_sections": []
    },
    "kernelspec": {
      "name": "python3",
      "display_name": "Python 3"
    }
  },
  "cells": [
    {
      "cell_type": "markdown",
      "metadata": {
        "id": "view-in-github",
        "colab_type": "text"
      },
      "source": [
        "[View in Colaboratory](https://colab.research.google.com/github/sungreong/Pymc3_bayseian/blob/master/Advanced_usage_of_Theano_in_PyMC3.ipynb)"
      ]
    },
    {
      "metadata": {
        "id": "mg7zF-W-yFXa",
        "colab_type": "code",
        "colab": {}
      },
      "cell_type": "code",
      "source": [
        "!pip install git+https://github.com/pymc-devs/pymc3\n",
        "!pip install patsy pandas"
      ],
      "execution_count": 0,
      "outputs": []
    },
    {
      "metadata": {
        "id": "Ukm0Gzeky-61",
        "colab_type": "text"
      },
      "cell_type": "markdown",
      "source": [
        "shared variable 은 함수의 인풋값을 고려하지 않은 것값을 사용할 수 있게 한다. 그리고 후에 변경이 가능하다.  \n",
        "그래서 이것은 흔히 global variable 과 유사하다"
      ]
    },
    {
      "metadata": {
        "id": "Vb3tn1z0yXJA",
        "colab_type": "code",
        "colab": {}
      },
      "cell_type": "code",
      "source": [
        "import theano\n",
        "import theano.tensor as tt\n",
        "\n",
        "a = tt.scalar(\"a\")\n",
        "# 0.1 이라는 새로운 초기 shared variable 생성\n",
        "\n",
        "b= theano.shared(0.1)\n",
        "\n",
        "func = theano.function([a], a*b)\n",
        "assert func(2.) == 0.2\n",
        "\n",
        "b.set_value(10.)\n",
        "assert func(2.) == 20."
      ],
      "execution_count": 0,
      "outputs": []
    },
    {
      "metadata": {
        "id": "5M8_ig_6zgh7",
        "colab_type": "text"
      },
      "cell_type": "markdown",
      "source": [
        "shared variable 들은 배열을 포함하고 또한 같은 차원의 수를 유지하면서 모양을 변경 시킬 수 있다.  \n",
        "\n",
        "pymc3 에서 shared variables 를 각각의 모델을  재창조하기 위해 노력 없이  몇몇 데이터를 같은 모델에 fitting 시킬 수 있다. "
      ]
    },
    {
      "metadata": {
        "id": "P-cw1i8qzdWs",
        "colab_type": "code",
        "colab": {
          "base_uri": "https://localhost:8080/",
          "height": 1190
        },
        "outputId": "7cb18caf-1e1a-4723-8852-8e43d072fe79"
      },
      "cell_type": "code",
      "source": [
        "import numpy as np\n",
        "import pymc3 as pm\n",
        "true_mu = [np.random.randn() for _ in range(10) ]\n",
        "observed_data = [mu + np.random.randn(20) for mu in true_mu ]\n",
        "\n",
        "print(true_mu)\n",
        "\n",
        "data = theano.shared(observed_data[0])\n",
        "3\n",
        "with pm.Model() as model :\n",
        "    mu = pm.Normal(\"mu\", 0, 10)\n",
        "    pm.Normal(\"y\", mu=mu, sd=1 , observed = data)\n",
        "    \n",
        "# 각각 데이터 셋에 흔적을 생산\n",
        "\n",
        "traces = []\n",
        "for data_vals in observed_data :\n",
        "    # 관측 데이터 셋\n",
        "    data.set_value(data_vals)\n",
        "    with model :\n",
        "        traces.append(pm.sample())"
      ],
      "execution_count": 6,
      "outputs": [
        {
          "output_type": "stream",
          "text": [
            "[-0.09737095742352792, 0.9355176146341863, -0.7034472174786153, -1.0180332978969655, -0.6441510426261643, 1.3673479672027307, 0.08654808824053999, -0.06090982893166405, 0.31849627002520875, 0.15157241483308886]\n"
          ],
          "name": "stdout"
        },
        {
          "output_type": "stream",
          "text": [
            "Auto-assigning NUTS sampler...\n",
            "Initializing NUTS using jitter+adapt_diag...\n",
            "Sequential sampling (2 chains in 1 job)\n",
            "NUTS: [mu]\n",
            "100%|██████████| 1000/1000 [00:01<00:00, 896.62it/s]\n",
            "100%|██████████| 1000/1000 [00:00<00:00, 2284.50it/s]\n",
            "/usr/local/lib/python3.6/dist-packages/scipy/signal/signaltools.py:375: FutureWarning: Conversion of the second argument of issubdtype from `complex` to `np.complexfloating` is deprecated. In future, it will be treated as `np.complex128 == np.dtype(complex).type`.\n",
            "  complex_result = (np.issubdtype(in1.dtype, complex) or\n",
            "/usr/local/lib/python3.6/dist-packages/scipy/signal/signaltools.py:376: FutureWarning: Conversion of the second argument of issubdtype from `complex` to `np.complexfloating` is deprecated. In future, it will be treated as `np.complex128 == np.dtype(complex).type`.\n",
            "  np.issubdtype(in2.dtype, complex))\n",
            "Auto-assigning NUTS sampler...\n",
            "Initializing NUTS using jitter+adapt_diag...\n",
            "Sequential sampling (2 chains in 1 job)\n",
            "NUTS: [mu]\n",
            "100%|██████████| 1000/1000 [00:00<00:00, 2118.13it/s]\n",
            "100%|██████████| 1000/1000 [00:00<00:00, 2256.61it/s]\n",
            "Auto-assigning NUTS sampler...\n",
            "Initializing NUTS using jitter+adapt_diag...\n",
            "Sequential sampling (2 chains in 1 job)\n",
            "NUTS: [mu]\n",
            "100%|██████████| 1000/1000 [00:00<00:00, 2174.37it/s]\n",
            "100%|██████████| 1000/1000 [00:00<00:00, 2339.82it/s]\n",
            "The number of effective samples is smaller than 25% for some parameters.\n",
            "Auto-assigning NUTS sampler...\n",
            "Initializing NUTS using jitter+adapt_diag...\n",
            "Sequential sampling (2 chains in 1 job)\n",
            "NUTS: [mu]\n",
            "100%|██████████| 1000/1000 [00:00<00:00, 2187.93it/s]\n",
            "100%|██████████| 1000/1000 [00:00<00:00, 2294.48it/s]\n",
            "Auto-assigning NUTS sampler...\n",
            "Initializing NUTS using jitter+adapt_diag...\n",
            "Sequential sampling (2 chains in 1 job)\n",
            "NUTS: [mu]\n",
            "100%|██████████| 1000/1000 [00:00<00:00, 2189.08it/s]\n",
            "100%|██████████| 1000/1000 [00:00<00:00, 2233.03it/s]\n",
            "Auto-assigning NUTS sampler...\n",
            "Initializing NUTS using jitter+adapt_diag...\n"
          ],
          "name": "stderr"
        },
        {
          "output_type": "stream",
          "text": [
            "Sequential sampling (2 chains in 1 job)\n",
            "NUTS: [mu]\n",
            "100%|██████████| 1000/1000 [00:00<00:00, 2211.85it/s]\n",
            "100%|██████████| 1000/1000 [00:00<00:00, 2290.18it/s]\n",
            "Auto-assigning NUTS sampler...\n",
            "Initializing NUTS using jitter+adapt_diag...\n",
            "Sequential sampling (2 chains in 1 job)\n",
            "NUTS: [mu]\n",
            "100%|██████████| 1000/1000 [00:00<00:00, 1767.91it/s]\n",
            "100%|██████████| 1000/1000 [00:00<00:00, 2304.37it/s]\n",
            "Auto-assigning NUTS sampler...\n",
            "Initializing NUTS using jitter+adapt_diag...\n",
            "Sequential sampling (2 chains in 1 job)\n",
            "NUTS: [mu]\n",
            "100%|██████████| 1000/1000 [00:00<00:00, 2234.61it/s]\n",
            "100%|██████████| 1000/1000 [00:00<00:00, 2215.60it/s]\n",
            "Auto-assigning NUTS sampler...\n",
            "Initializing NUTS using jitter+adapt_diag...\n",
            "Sequential sampling (2 chains in 1 job)\n",
            "NUTS: [mu]\n",
            "100%|██████████| 1000/1000 [00:00<00:00, 2213.33it/s]\n",
            "100%|██████████| 1000/1000 [00:00<00:00, 2282.34it/s]\n",
            "Auto-assigning NUTS sampler...\n",
            "Initializing NUTS using jitter+adapt_diag...\n",
            "Sequential sampling (2 chains in 1 job)\n",
            "NUTS: [mu]\n",
            "100%|██████████| 1000/1000 [00:00<00:00, 2238.43it/s]\n",
            "100%|██████████| 1000/1000 [00:00<00:00, 2269.95it/s]\n"
          ],
          "name": "stderr"
        }
      ]
    },
    {
      "metadata": {
        "id": "FYmqy5Ne0oF5",
        "colab_type": "text"
      },
      "cell_type": "markdown",
      "source": [
        "pymc3 api 에서 때떄로 shared_ variables 를 사용한다.  \n",
        "기계 학습의 일반적인 작업은 보이지 않는 데이터의 값을 예측하는 것이고,이를 달성하는 한 가지 방법은 우리의 관찰을 위해 공유 변수를 사용하는 것입니다.  \n"
      ]
    },
    {
      "metadata": {
        "id": "SM8bxaDq0Cot",
        "colab_type": "code",
        "colab": {
          "base_uri": "https://localhost:8080/",
          "height": 212
        },
        "outputId": "4ee5f59f-a265-4f77-d60d-1b11a1c907ab"
      },
      "cell_type": "code",
      "source": [
        "x = np.random.randn(100)\n",
        "y = x > 0\n",
        "\n",
        "x_shared = theano.shared(x)\n",
        "\n",
        "with pm.Model() as model:\n",
        "  coeff = pm.Normal('x', mu=0, sd=1)\n",
        "  logistic = pm.math.sigmoid(coeff * x_shared)\n",
        "  pm.Bernoulli('obs', p=logistic, observed=y)\n",
        "\n",
        "  # fit the model\n",
        "  trace = pm.sample()\n",
        "\n",
        "  # Switch out the observations and use `sample_ppc` to predict\n",
        "  x_shared.set_value([-1, 0, 1.])\n",
        "  post_pred = pm.sample_ppc(trace, samples=500)"
      ],
      "execution_count": 8,
      "outputs": [
        {
          "output_type": "stream",
          "text": [
            "Auto-assigning NUTS sampler...\n",
            "Initializing NUTS using jitter+adapt_diag...\n",
            "Sequential sampling (2 chains in 1 job)\n",
            "NUTS: [x]\n",
            "100%|██████████| 1000/1000 [00:00<00:00, 1678.20it/s]\n",
            "100%|██████████| 1000/1000 [00:00<00:00, 1625.96it/s]\n",
            "/usr/local/lib/python3.6/dist-packages/scipy/signal/signaltools.py:375: FutureWarning: Conversion of the second argument of issubdtype from `complex` to `np.complexfloating` is deprecated. In future, it will be treated as `np.complex128 == np.dtype(complex).type`.\n",
            "  complex_result = (np.issubdtype(in1.dtype, complex) or\n",
            "/usr/local/lib/python3.6/dist-packages/scipy/signal/signaltools.py:376: FutureWarning: Conversion of the second argument of issubdtype from `complex` to `np.complexfloating` is deprecated. In future, it will be treated as `np.complex128 == np.dtype(complex).type`.\n",
            "  np.issubdtype(in2.dtype, complex))\n",
            "100%|██████████| 500/500 [00:00<00:00, 514.59it/s]\n"
          ],
          "name": "stderr"
        }
      ]
    },
    {
      "metadata": {
        "id": "AKl9O3S92Rln",
        "colab_type": "text"
      },
      "cell_type": "markdown",
      "source": [
        "\n",
        "그러나 현재 셰이프를 처리하는 방식으로 인해 변수 중 하나의 셰이프가 변경되는 경우 공유 변수의 모양을 변경할 수 없습니다."
      ]
    },
    {
      "metadata": {
        "id": "5PrhsNV0185o",
        "colab_type": "code",
        "colab": {
          "base_uri": "https://localhost:8080/",
          "height": 202
        },
        "outputId": "798b6627-5dc3-4255-fd71-d9d42dbf7739"
      },
      "cell_type": "code",
      "source": [
        "pm.traceplot(trace)"
      ],
      "execution_count": 10,
      "outputs": [
        {
          "output_type": "execute_result",
          "data": {
            "text/plain": [
              "array([[<matplotlib.axes._subplots.AxesSubplot object at 0x7fa8e311d898>,\n",
              "        <matplotlib.axes._subplots.AxesSubplot object at 0x7fa8e2b46a90>]],\n",
              "      dtype=object)"
            ]
          },
          "metadata": {
            "tags": []
          },
          "execution_count": 10
        },
        {
          "output_type": "display_data",
          "data": {
            "image/png": "[encoded data removed]",
            "text/plain": [
              "<matplotlib.figure.Figure at 0x7fa8e2e912b0>"
            ]
          },
          "metadata": {
            "tags": []
          }
        }
      ]
    },
    {
      "metadata": {
        "id": "FZr15CKe2_Sn",
        "colab_type": "text"
      },
      "cell_type": "markdown",
      "source": [
        "![대체 텍스트](https://preview.ibb.co/bMqZvd/function.png)"
      ]
    },
    {
      "metadata": {
        "id": "gdryWfM32WGv",
        "colab_type": "code",
        "colab": {}
      },
      "cell_type": "code",
      "source": [
        "from scipy import optimize , special\n",
        "import numpy as np\n",
        "\n",
        "def func(mu, theta) :\n",
        "    thetamu = theta* mu\n",
        "    value = np.log(mu) + np.logaddexp(0, thetamu)\n",
        "    return value\n",
        "\n",
        "\n",
        "def jac(mu, theta) :\n",
        "    thetamu = theta* mu \n",
        "    jac = theta * special.expit(thetamu) + 1 / mu\n",
        "    return jac\n",
        "\n",
        "def mu_from_theta(theta) :\n",
        "    return optimize.newton(func,1 , fprime= jac , args=(0.4, ))\n"
      ],
      "execution_count": 0,
      "outputs": []
    },
    {
      "metadata": {
        "id": "-varLPnA3lpp",
        "colab_type": "text"
      },
      "cell_type": "markdown",
      "source": [
        "We could wrap mu_from_theta with tt.as_op and use gradient-free methods like Metropolis,   \n",
        "but to get NUTS and ADVI working, we also need to define the derivative of mu_from_theta.\n",
        "\n",
        "We can find this derivative using the implicit function theorem,  \n",
        "or equivalently we take the derivative with respect of θ for both sides of $ R(μ(θ),θ)=0    $   \n",
        "and solve for $ dμdθ. $ This isn’t hard to do by hand, but for the fun of it, let’s do it using sympy:\n",
        "\n",
        "$  \\frac{d}{dθ}μ(θ)=−\\frac{μ(θ)^2}{1+θμ(θ)+e−θμ(θ)} $"
      ]
    },
    {
      "metadata": {
        "id": "TqgmPNG73RlV",
        "colab_type": "code",
        "colab": {}
      },
      "cell_type": "code",
      "source": [
        "import sympy\n",
        "\n",
        "mu = sympy.Function('mu')\n",
        "theta = sympy.Symbol('theta')\n",
        "R = mu(theta) + mu(theta) * sympy.exp(theta * mu(theta)) - 1\n",
        "solution = sympy.solve(R.diff(theta), mu(theta).diff(theta))[0]"
      ],
      "execution_count": 0,
      "outputs": []
    },
    {
      "metadata": {
        "id": "j5Pp2sUj548Q",
        "colab_type": "text"
      },
      "cell_type": "markdown",
      "source": [
        "\n",
        "\n",
        "```\n",
        "import theano\n",
        "import theano.tensor as tt\n",
        "import theano.tests.unittest_tools\n",
        "\n",
        "class MuFromTheta(tt.Op):\n",
        "    itypes = [tt.dscalar]\n",
        "    otypes = [tt.dscalar]\n",
        "\n",
        "    def perform(self, node, inputs, outputs):\n",
        "        theta, = inputs\n",
        "        mu = mu_from_theta(theta)\n",
        "        outputs[0][0] = np.array(mu)\n",
        "\n",
        "    def grad(self, inputs, g):\n",
        "        theta, = inputs\n",
        "        mu = self(theta)\n",
        "        thetamu = theta * mu\n",
        "        return [- g[0] * mu ** 2 / (1 + thetamu + tt.exp(-thetamu))]\n",
        " ```\n",
        "## We can now define our model using this new op:\n",
        " ```\n",
        "\n",
        "import pymc3 as pm\n",
        "\n",
        "tt_mu_from_theta = MuFromTheta()\n",
        "\n",
        "with pm.Model() as model:\n",
        "    theta = pm.HalfNormal('theta', sd=1)\n",
        "    mu = pm.Deterministic('mu', tt_mu_from_theta(theta))\n",
        "    pm.Normal('y', mu=mu, sd=0.1, observed=[0.2, 0.21, 0.3])\n",
        "\n",
        "    trace = pm.sample()\n",
        "```\n",
        "\n"
      ]
    }
  ]
}